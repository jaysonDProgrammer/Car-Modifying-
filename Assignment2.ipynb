{
  "nbformat": 4,
  "nbformat_minor": 0,
  "metadata": {
    "colab": {
      "name": "Assignment2.ipynb",
      "provenance": [],
      "collapsed_sections": [],
      "mount_file_id": "1upTcFbPUje7YeEfZJtaXNPqu4j7aPjdI",
      "authorship_tag": "ABX9TyMvd3hD3laJ52JteNOV0eDW",
      "include_colab_link": true
    },
    "kernelspec": {
      "name": "python3",
      "display_name": "Python 3"
    },
    "accelerator": "GPU"
  },
  "cells": [
    {
      "cell_type": "markdown",
      "metadata": {
        "id": "view-in-github",
        "colab_type": "text"
      },
      "source": [
        "<a href=\"https://colab.research.google.com/github/jaysonDProgrammer/Car-Modifying-/blob/master/Assignment2.ipynb\" target=\"_parent\"><img src=\"https://colab.research.google.com/assets/colab-badge.svg\" alt=\"Open In Colab\"/></a>"
      ]
    },
    {
      "cell_type": "markdown",
      "metadata": {
        "id": "rgpuuPbnYd7v"
      },
      "source": [
        "# **Jayson De Ada Fernandez 07470190**\r\n",
        "# Assignment 2\r\n",
        "https://colab.research.google.com/drive/1upTcFbPUje7YeEfZJtaXNPqu4j7aPjdI?usp=sharing"
      ]
    },
    {
      "cell_type": "markdown",
      "metadata": {
        "id": "1INzZb2qYm4G"
      },
      "source": [
        "## **Importing and installing Libraries**"
      ]
    },
    {
      "cell_type": "code",
      "metadata": {
        "id": "x0EU81quFuSH"
      },
      "source": [
        "import numpy as np\r\n",
        "import pandas as pd\r\n",
        "import matplotlib.pyplot as plt\r\n",
        "import seaborn as sns\r\n",
        "from patsy import dmatrices\r\n",
        "import statsmodels.api as sm\r\n",
        "import statsmodels.regression.linear_model as smf\r\n",
        "from matplotlib import style\r\n",
        "\r\n",
        "from bokeh.layouts import row\r\n",
        "from bokeh.io import output_notebook\r\n",
        "from patsy import dmatrices\r\n",
        "import xgboost as xgb\r\n",
        "\r\n",
        "\r\n",
        "\r\n",
        "from sklearn.model_selection import train_test_split\r\n",
        "from sklearn.model_selection import KFold\r\n",
        "from sklearn.model_selection import GridSearchCV\r\n",
        "from sklearn.model_selection import RandomizedSearchCV, cross_val_score\r\n",
        "from sklearn import ensemble\r\n",
        "from sklearn import linear_model\r\n",
        "from sklearn.linear_model import LinearRegression\r\n",
        "from sklearn.linear_model import LogisticRegression\r\n",
        "from sklearn.neighbors import KNeighborsClassifier\r\n",
        "from sklearn.ensemble import RandomForestClassifier,GradientBoostingClassifier,AdaBoostClassifier\r\n",
        "from sklearn.tree import DecisionTreeClassifier\r\n",
        "\r\n",
        "\r\n",
        "from sklearn.linear_model import LinearRegression,Ridge,Lasso,RidgeCV, SGDClassifier\r\n",
        "from sklearn.ensemble import RandomForestRegressor,BaggingRegressor,GradientBoostingRegressor,AdaBoostRegressor\r\n",
        "from sklearn.svm import SVR\r\n",
        "from sklearn.neighbors import KNeighborsRegressor\r\n",
        "\r\n",
        "from sklearn import preprocessing\r\n",
        "from sklearn.preprocessing import MinMaxScaler,StandardScaler,LabelEncoder\r\n",
        "\r\n",
        "from sklearn.metrics import mean_squared_log_error,mean_squared_error, r2_score,mean_absolute_error \r\n",
        "from sklearn.metrics import accuracy_score,precision_score,recall_score,f1_score,  classification_report \r\n",
        "\r\n",
        "import warnings\r\n",
        "warnings.filterwarnings('ignore')\r\n",
        "\r\n",
        "output_notebook()\r\n",
        "%matplotlib inline"
      ],
      "execution_count": 13,
      "outputs": []
    },
    {
      "cell_type": "code",
      "metadata": {
        "colab": {
          "base_uri": "https://localhost:8080/"
        },
        "id": "PQE2C8TfFc74",
        "outputId": "2ffd162b-8e82-494b-9e4b-fc010067ad3c"
      },
      "source": [
        "!pip install matplotlib --upgrade"
      ],
      "execution_count": 14,
      "outputs": [
        {
          "output_type": "stream",
          "text": [
            "Requirement already up-to-date: matplotlib in /usr/local/lib/python3.6/dist-packages (3.3.3)\n",
            "Requirement already satisfied, skipping upgrade: python-dateutil>=2.1 in /usr/local/lib/python3.6/dist-packages (from matplotlib) (2.8.1)\n",
            "Requirement already satisfied, skipping upgrade: numpy>=1.15 in /usr/local/lib/python3.6/dist-packages (from matplotlib) (1.19.5)\n",
            "Requirement already satisfied, skipping upgrade: pillow>=6.2.0 in /usr/local/lib/python3.6/dist-packages (from matplotlib) (7.0.0)\n",
            "Requirement already satisfied, skipping upgrade: cycler>=0.10 in /usr/local/lib/python3.6/dist-packages (from matplotlib) (0.10.0)\n",
            "Requirement already satisfied, skipping upgrade: kiwisolver>=1.0.1 in /usr/local/lib/python3.6/dist-packages (from matplotlib) (1.3.1)\n",
            "Requirement already satisfied, skipping upgrade: pyparsing!=2.0.4,!=2.1.2,!=2.1.6,>=2.0.3 in /usr/local/lib/python3.6/dist-packages (from matplotlib) (2.4.7)\n",
            "Requirement already satisfied, skipping upgrade: six>=1.5 in /usr/local/lib/python3.6/dist-packages (from python-dateutil>=2.1->matplotlib) (1.15.0)\n"
          ],
          "name": "stdout"
        }
      ]
    },
    {
      "cell_type": "code",
      "metadata": {
        "colab": {
          "base_uri": "https://localhost:8080/"
        },
        "id": "Y048L9tUFRP4",
        "outputId": "9c45ac91-34db-4b57-8534-678777270605"
      },
      "source": [
        "! pip install seaborn --upgrade\r\n",
        "! pip freeze > requirements.txt"
      ],
      "execution_count": 15,
      "outputs": [
        {
          "output_type": "stream",
          "text": [
            "Requirement already up-to-date: seaborn in /usr/local/lib/python3.6/dist-packages (0.11.1)\n",
            "Requirement already satisfied, skipping upgrade: matplotlib>=2.2 in /usr/local/lib/python3.6/dist-packages (from seaborn) (3.3.3)\n",
            "Requirement already satisfied, skipping upgrade: numpy>=1.15 in /usr/local/lib/python3.6/dist-packages (from seaborn) (1.19.5)\n",
            "Requirement already satisfied, skipping upgrade: pandas>=0.23 in /usr/local/lib/python3.6/dist-packages (from seaborn) (1.1.5)\n",
            "Requirement already satisfied, skipping upgrade: scipy>=1.0 in /usr/local/lib/python3.6/dist-packages (from seaborn) (1.4.1)\n",
            "Requirement already satisfied, skipping upgrade: pyparsing!=2.0.4,!=2.1.2,!=2.1.6,>=2.0.3 in /usr/local/lib/python3.6/dist-packages (from matplotlib>=2.2->seaborn) (2.4.7)\n",
            "Requirement already satisfied, skipping upgrade: pillow>=6.2.0 in /usr/local/lib/python3.6/dist-packages (from matplotlib>=2.2->seaborn) (7.0.0)\n",
            "Requirement already satisfied, skipping upgrade: python-dateutil>=2.1 in /usr/local/lib/python3.6/dist-packages (from matplotlib>=2.2->seaborn) (2.8.1)\n",
            "Requirement already satisfied, skipping upgrade: cycler>=0.10 in /usr/local/lib/python3.6/dist-packages (from matplotlib>=2.2->seaborn) (0.10.0)\n",
            "Requirement already satisfied, skipping upgrade: kiwisolver>=1.0.1 in /usr/local/lib/python3.6/dist-packages (from matplotlib>=2.2->seaborn) (1.3.1)\n",
            "Requirement already satisfied, skipping upgrade: pytz>=2017.2 in /usr/local/lib/python3.6/dist-packages (from pandas>=0.23->seaborn) (2018.9)\n",
            "Requirement already satisfied, skipping upgrade: six>=1.5 in /usr/local/lib/python3.6/dist-packages (from python-dateutil>=2.1->matplotlib>=2.2->seaborn) (1.15.0)\n"
          ],
          "name": "stdout"
        }
      ]
    },
    {
      "cell_type": "code",
      "metadata": {
        "id": "RsHkAnvd02Dq"
      },
      "source": [
        "!pip install pyngrok==4.1.1"
      ],
      "execution_count": null,
      "outputs": []
    },
    {
      "cell_type": "markdown",
      "metadata": {
        "id": "CkmiMMV1zmoZ"
      },
      "source": [
        "### **Creating an White Wine APP using streamlit**"
      ]
    },
    {
      "cell_type": "code",
      "metadata": {
        "colab": {
          "base_uri": "https://localhost:8080/"
        },
        "id": "VviYnqowoRfZ",
        "outputId": "dcb511ec-1832-4644-a3d9-bb7daf8ecef6"
      },
      "source": [
        "%%writefile app.py\r\n",
        "# Main Panel\r\n",
        "st.write(\"\"\"\r\n",
        "# Simple White Wine Prediction App\r\n",
        "This app predicts the **Classification of White Wine if it's good, average or bad** type!\r\n",
        "\"\"\")\r\n",
        "#import libraries\r\n",
        "import streamlit as st\r\n",
        "import pandas as pd\r\n",
        "import numpy as np\r\n",
        "from sklearn.ensemble import RandomForestClassifier\r\n",
        "#app heading\r\n",
        "st.write(\"\"\"\r\n",
        "# Wine Quality Prediction App\r\n",
        "This app predicts the ***Wine Quality*** type!\r\n",
        "\"\"\")\r\n",
        "#creating sidebar for user input features\r\n",
        "st.sidebar.header('User Input Parameters')\r\n",
        "  \r\n",
        "\r\n",
        "\r\n",
        "# Wine Quality Prediction App\r\n",
        "#This app predicts the ***Wine Quality*** type!\"\"\")\r\n",
        "#creating sidebar for user input features\r\n",
        "st.sidebar.header('User Input Parameters')\r\n",
        "  \r\n",
        "def user_input_features():\r\n",
        "        fixed_acidity = st.sidebar.slider('fixed acidity', 4.6, 15.9, 8.31)\r\n",
        "        volatile_acidity = st.sidebar.slider('volatile acidity', 0.12,1.58 , 0.52)\r\n",
        "        citric_acid = st.sidebar.slider('citric acid', 0.0,1.0 , 0.5)\r\n",
        "        residual_sugar = st.sidebar.slider('residual_sugar', 0.0, 10.0, 20.7)\r\n",
        "        chlorides = st.sidebar.slider('chlorides', 0.01,0.6 , 0.08)\r\n",
        "        free_sulfur_dioxide = st.sidebar.slider('free sulfur dioxide',1.0,30.0,50.5)\r\n",
        "        total_sulfur_dioxide=st.sidebar.slider('total sulfur dioxide', 6.0,289.0 , 46.0)\r\n",
        "        density = st.sidebar.slider('density', 0.1, 0.5, 1.0)\r\n",
        "        pH = st.sidebar.slider ('pH', 1.0,2.0,3.5)\r\n",
        "        sulphates=st.sidebar.slider('sulphates', 0.33,2.0,0.65 )\r\n",
        "        alcohol=st.sidebar.slider('alcohol', 8.4,14.9, 10.4)\r\n",
        "        data = {'fixed_acidity': fixed_acidity,\r\n",
        "                'volatile_acidity': volatile_acidity,\r\n",
        "                'citric_acid': citric_acid,\r\n",
        "                'residual sugar': residual_sugar,\r\n",
        "                'chlorides': chlorides,\r\n",
        "                'free sulfur dioxide': free_sulfur_dioxide,\r\n",
        "              'total_sulfur_dioxide':total_sulfur_dioxide,\r\n",
        "              'density': density,\r\n",
        "              'pH': pH,\r\n",
        "              'sulphates':sulphates,\r\n",
        "              'alcohol':alcohol}\r\n",
        "        features = pd.DataFrame(data, index=[0])\r\n",
        "        return features\r\n",
        "df = user_input_features()\r\n",
        "\r\n",
        "st.subheader('User Input parameters')\r\n",
        "st.write(df)\r\n",
        "#reading csv file\r\n",
        "data=pd.read_csv('/content/drive/MyDrive/MachineLearning/winequality-white.csv', delimiter=';')\r\n",
        "X =np.array(data[[\"fixed acidity\",\"volatile acidity\",\"citric acid\",\"residual sugar\",\"chlorides\",\"free sulfur dioxide\",\"total sulfur dioxide\",\"density\",\"pH\",\"sulphates\",\"alcohol\"]])\r\n",
        "Y = np.array(data['quality'])\r\n",
        "\r\n",
        "rfc= RandomForestClassifier()\r\n",
        "rfc.fit(x_train, y_train)\r\n",
        "st.subheader('Wine quality labels and their corresponding index number')\r\n",
        "st.write(pd.DataFrame({\r\n",
        "   'wine quality': [3, 4, 5, 6, 7, 8 ]}))\r\n",
        "\r\n",
        "prediction = rfc.predict(df)\r\n",
        "prediction_proba = rfc.predict_proba(df)\r\n",
        "st.subheader('Prediction')\r\n",
        "st.write(prediction)\r\n",
        "\r\n",
        "st.subheader('Prediction Probability')"
      ],
      "execution_count": 16,
      "outputs": [
        {
          "output_type": "stream",
          "text": [
            "Overwriting app.py\n"
          ],
          "name": "stdout"
        }
      ]
    },
    {
      "cell_type": "code",
      "metadata": {
        "colab": {
          "base_uri": "https://localhost:8080/"
        },
        "id": "erUOPhy6sRy5",
        "outputId": "90b92dda-09a1-4aef-d879-37be5de75370"
      },
      "source": [
        "!ls"
      ],
      "execution_count": 17,
      "outputs": [
        {
          "output_type": "stream",
          "text": [
            "app.py\tdrive  requirements.txt  sample_data\n"
          ],
          "name": "stdout"
        }
      ]
    },
    {
      "cell_type": "code",
      "metadata": {
        "colab": {
          "base_uri": "https://localhost:8080/"
        },
        "id": "9gb-cipjsuEh",
        "outputId": "f37d6f58-0eda-4fa7-bef2-ab52e240d02c"
      },
      "source": [
        "! ngrok authtoken 1jeVd279Ct4MOa6hUnculEIqEGc_6YCC8y6Peq6YbGDNjqDxw"
      ],
      "execution_count": 18,
      "outputs": [
        {
          "output_type": "stream",
          "text": [
            "Authtoken saved to configuration file: /root/.ngrok2/ngrok.yml\n"
          ],
          "name": "stdout"
        }
      ]
    },
    {
      "cell_type": "code",
      "metadata": {
        "id": "Eu3uZmgBuwrc"
      },
      "source": [
        "from pyngrok import ngrok"
      ],
      "execution_count": 19,
      "outputs": []
    },
    {
      "cell_type": "code",
      "metadata": {
        "id": "sIDufmPvvCAL"
      },
      "source": [
        "!streamlit run app.py&>/dev/null&"
      ],
      "execution_count": 20,
      "outputs": []
    },
    {
      "cell_type": "code",
      "metadata": {
        "colab": {
          "base_uri": "https://localhost:8080/"
        },
        "id": "ymaSk_glvXiR",
        "outputId": "11f4cc7a-bd55-4fde-90fb-ce9862022991"
      },
      "source": [
        "!pgrep streamlit"
      ],
      "execution_count": 21,
      "outputs": [
        {
          "output_type": "stream",
          "text": [
            "1527\n",
            "1536\n",
            "1638\n",
            "1717\n",
            "1770\n",
            "1840\n",
            "1925\n",
            "1994\n",
            "2011\n",
            "2037\n",
            "2118\n",
            "2204\n",
            "2302\n"
          ],
          "name": "stdout"
        }
      ]
    },
    {
      "cell_type": "code",
      "metadata": {
        "id": "GX8Ra0Peu3ni"
      },
      "source": [
        "publ_url = ngrok.connect(port ='8501')"
      ],
      "execution_count": 22,
      "outputs": []
    },
    {
      "cell_type": "code",
      "metadata": {
        "id": "OpsUrmYEvmJZ",
        "colab": {
          "base_uri": "https://localhost:8080/"
        },
        "outputId": "f6dc6b99-1efc-4788-d914-07b4dbb66a7e"
      },
      "source": [
        "publ_url"
      ],
      "execution_count": 23,
      "outputs": [
        {
          "output_type": "execute_result",
          "data": {
            "text/plain": [
              "<NgrokTunnel: \"http://d31063f0380d.ngrok.io\" -> \"http://localhost:80\">"
            ]
          },
          "metadata": {
            "tags": []
          },
          "execution_count": 23
        }
      ]
    },
    {
      "cell_type": "markdown",
      "metadata": {
        "id": "1IWbryHQYwOW"
      },
      "source": [
        "## **Read Data**"
      ]
    },
    {
      "cell_type": "code",
      "metadata": {
        "id": "Q-BQsmq9FGDM",
        "colab": {
          "base_uri": "https://localhost:8080/",
          "height": 197
        },
        "outputId": "5f563873-8f8f-4ecc-f296-614a617c7062"
      },
      "source": [
        "winedata = pd.read_csv('/content/drive/MyDrive/MachineLearning/winequality-white.csv', delimiter=';')\r\n",
        "winedata.head()"
      ],
      "execution_count": 24,
      "outputs": [
        {
          "output_type": "execute_result",
          "data": {
            "text/html": [
              "<div>\n",
              "<style scoped>\n",
              "    .dataframe tbody tr th:only-of-type {\n",
              "        vertical-align: middle;\n",
              "    }\n",
              "\n",
              "    .dataframe tbody tr th {\n",
              "        vertical-align: top;\n",
              "    }\n",
              "\n",
              "    .dataframe thead th {\n",
              "        text-align: right;\n",
              "    }\n",
              "</style>\n",
              "<table border=\"1\" class=\"dataframe\">\n",
              "  <thead>\n",
              "    <tr style=\"text-align: right;\">\n",
              "      <th></th>\n",
              "      <th>fixed acidity</th>\n",
              "      <th>volatile acidity</th>\n",
              "      <th>citric acid</th>\n",
              "      <th>residual sugar</th>\n",
              "      <th>chlorides</th>\n",
              "      <th>free sulfur dioxide</th>\n",
              "      <th>total sulfur dioxide</th>\n",
              "      <th>density</th>\n",
              "      <th>pH</th>\n",
              "      <th>sulphates</th>\n",
              "      <th>alcohol</th>\n",
              "      <th>quality</th>\n",
              "    </tr>\n",
              "  </thead>\n",
              "  <tbody>\n",
              "    <tr>\n",
              "      <th>0</th>\n",
              "      <td>7.0</td>\n",
              "      <td>0.27</td>\n",
              "      <td>0.36</td>\n",
              "      <td>20.7</td>\n",
              "      <td>0.045</td>\n",
              "      <td>45.0</td>\n",
              "      <td>170.0</td>\n",
              "      <td>1.0010</td>\n",
              "      <td>3.00</td>\n",
              "      <td>0.45</td>\n",
              "      <td>8.8</td>\n",
              "      <td>6</td>\n",
              "    </tr>\n",
              "    <tr>\n",
              "      <th>1</th>\n",
              "      <td>6.3</td>\n",
              "      <td>0.30</td>\n",
              "      <td>0.34</td>\n",
              "      <td>1.6</td>\n",
              "      <td>0.049</td>\n",
              "      <td>14.0</td>\n",
              "      <td>132.0</td>\n",
              "      <td>0.9940</td>\n",
              "      <td>3.30</td>\n",
              "      <td>0.49</td>\n",
              "      <td>9.5</td>\n",
              "      <td>6</td>\n",
              "    </tr>\n",
              "    <tr>\n",
              "      <th>2</th>\n",
              "      <td>8.1</td>\n",
              "      <td>0.28</td>\n",
              "      <td>0.40</td>\n",
              "      <td>6.9</td>\n",
              "      <td>0.050</td>\n",
              "      <td>30.0</td>\n",
              "      <td>97.0</td>\n",
              "      <td>0.9951</td>\n",
              "      <td>3.26</td>\n",
              "      <td>0.44</td>\n",
              "      <td>10.1</td>\n",
              "      <td>6</td>\n",
              "    </tr>\n",
              "    <tr>\n",
              "      <th>3</th>\n",
              "      <td>7.2</td>\n",
              "      <td>0.23</td>\n",
              "      <td>0.32</td>\n",
              "      <td>8.5</td>\n",
              "      <td>0.058</td>\n",
              "      <td>47.0</td>\n",
              "      <td>186.0</td>\n",
              "      <td>0.9956</td>\n",
              "      <td>3.19</td>\n",
              "      <td>0.40</td>\n",
              "      <td>9.9</td>\n",
              "      <td>6</td>\n",
              "    </tr>\n",
              "    <tr>\n",
              "      <th>4</th>\n",
              "      <td>7.2</td>\n",
              "      <td>0.23</td>\n",
              "      <td>0.32</td>\n",
              "      <td>8.5</td>\n",
              "      <td>0.058</td>\n",
              "      <td>47.0</td>\n",
              "      <td>186.0</td>\n",
              "      <td>0.9956</td>\n",
              "      <td>3.19</td>\n",
              "      <td>0.40</td>\n",
              "      <td>9.9</td>\n",
              "      <td>6</td>\n",
              "    </tr>\n",
              "  </tbody>\n",
              "</table>\n",
              "</div>"
            ],
            "text/plain": [
              "   fixed acidity  volatile acidity  citric acid  ...  sulphates  alcohol  quality\n",
              "0            7.0              0.27         0.36  ...       0.45      8.8        6\n",
              "1            6.3              0.30         0.34  ...       0.49      9.5        6\n",
              "2            8.1              0.28         0.40  ...       0.44     10.1        6\n",
              "3            7.2              0.23         0.32  ...       0.40      9.9        6\n",
              "4            7.2              0.23         0.32  ...       0.40      9.9        6\n",
              "\n",
              "[5 rows x 12 columns]"
            ]
          },
          "metadata": {
            "tags": []
          },
          "execution_count": 24
        }
      ]
    },
    {
      "cell_type": "markdown",
      "metadata": {
        "id": "eKbxhs1wY1zI"
      },
      "source": [
        "## **Checking Null value**"
      ]
    },
    {
      "cell_type": "code",
      "metadata": {
        "id": "khPZpl4GGPvw",
        "colab": {
          "base_uri": "https://localhost:8080/"
        },
        "outputId": "0490f6c1-9d23-4f7d-bcf4-75685deb543f"
      },
      "source": [
        "\r\n",
        "winedata.isnull().sum()"
      ],
      "execution_count": 25,
      "outputs": [
        {
          "output_type": "execute_result",
          "data": {
            "text/plain": [
              "fixed acidity           0\n",
              "volatile acidity        0\n",
              "citric acid             0\n",
              "residual sugar          0\n",
              "chlorides               0\n",
              "free sulfur dioxide     0\n",
              "total sulfur dioxide    0\n",
              "density                 0\n",
              "pH                      0\n",
              "sulphates               0\n",
              "alcohol                 0\n",
              "quality                 0\n",
              "dtype: int64"
            ]
          },
          "metadata": {
            "tags": []
          },
          "execution_count": 25
        }
      ]
    },
    {
      "cell_type": "code",
      "metadata": {
        "id": "SBooX-azGP62",
        "colab": {
          "base_uri": "https://localhost:8080/"
        },
        "outputId": "554308bc-e8cd-4f64-8bed-0823fca62f8a"
      },
      "source": [
        "print(\"Shape of the dataset: \", winedata.shape)\r\n",
        "print('\\n')\r\n",
        "winedata.columns"
      ],
      "execution_count": 26,
      "outputs": [
        {
          "output_type": "stream",
          "text": [
            "Shape of the dataset:  (4898, 12)\n",
            "\n",
            "\n"
          ],
          "name": "stdout"
        },
        {
          "output_type": "execute_result",
          "data": {
            "text/plain": [
              "Index(['fixed acidity', 'volatile acidity', 'citric acid', 'residual sugar',\n",
              "       'chlorides', 'free sulfur dioxide', 'total sulfur dioxide', 'density',\n",
              "       'pH', 'sulphates', 'alcohol', 'quality'],\n",
              "      dtype='object')"
            ]
          },
          "metadata": {
            "tags": []
          },
          "execution_count": 26
        }
      ]
    },
    {
      "cell_type": "code",
      "metadata": {
        "id": "kzC9uQHXGP-n",
        "colab": {
          "base_uri": "https://localhost:8080/"
        },
        "outputId": "a1e1dfb6-5e84-4dab-c544-9fa7c3eb3216"
      },
      "source": [
        "winedata.info()"
      ],
      "execution_count": 27,
      "outputs": [
        {
          "output_type": "stream",
          "text": [
            "<class 'pandas.core.frame.DataFrame'>\n",
            "RangeIndex: 4898 entries, 0 to 4897\n",
            "Data columns (total 12 columns):\n",
            " #   Column                Non-Null Count  Dtype  \n",
            "---  ------                --------------  -----  \n",
            " 0   fixed acidity         4898 non-null   float64\n",
            " 1   volatile acidity      4898 non-null   float64\n",
            " 2   citric acid           4898 non-null   float64\n",
            " 3   residual sugar        4898 non-null   float64\n",
            " 4   chlorides             4898 non-null   float64\n",
            " 5   free sulfur dioxide   4898 non-null   float64\n",
            " 6   total sulfur dioxide  4898 non-null   float64\n",
            " 7   density               4898 non-null   float64\n",
            " 8   pH                    4898 non-null   float64\n",
            " 9   sulphates             4898 non-null   float64\n",
            " 10  alcohol               4898 non-null   float64\n",
            " 11  quality               4898 non-null   int64  \n",
            "dtypes: float64(11), int64(1)\n",
            "memory usage: 459.3 KB\n"
          ],
          "name": "stdout"
        }
      ]
    },
    {
      "cell_type": "markdown",
      "metadata": {
        "id": "duUrSNHeGkTo"
      },
      "source": [
        "## **Stastical information**"
      ]
    },
    {
      "cell_type": "code",
      "metadata": {
        "id": "BxJnV00xGQBX",
        "colab": {
          "base_uri": "https://localhost:8080/",
          "height": 407
        },
        "outputId": "270451fb-1cf5-45ae-e8b0-47b627fbbe0a"
      },
      "source": [
        "winedata.describe().T"
      ],
      "execution_count": 28,
      "outputs": [
        {
          "output_type": "execute_result",
          "data": {
            "text/html": [
              "<div>\n",
              "<style scoped>\n",
              "    .dataframe tbody tr th:only-of-type {\n",
              "        vertical-align: middle;\n",
              "    }\n",
              "\n",
              "    .dataframe tbody tr th {\n",
              "        vertical-align: top;\n",
              "    }\n",
              "\n",
              "    .dataframe thead th {\n",
              "        text-align: right;\n",
              "    }\n",
              "</style>\n",
              "<table border=\"1\" class=\"dataframe\">\n",
              "  <thead>\n",
              "    <tr style=\"text-align: right;\">\n",
              "      <th></th>\n",
              "      <th>count</th>\n",
              "      <th>mean</th>\n",
              "      <th>std</th>\n",
              "      <th>min</th>\n",
              "      <th>25%</th>\n",
              "      <th>50%</th>\n",
              "      <th>75%</th>\n",
              "      <th>max</th>\n",
              "    </tr>\n",
              "  </thead>\n",
              "  <tbody>\n",
              "    <tr>\n",
              "      <th>fixed acidity</th>\n",
              "      <td>4898.0</td>\n",
              "      <td>6.854788</td>\n",
              "      <td>0.843868</td>\n",
              "      <td>3.80000</td>\n",
              "      <td>6.300000</td>\n",
              "      <td>6.80000</td>\n",
              "      <td>7.3000</td>\n",
              "      <td>14.20000</td>\n",
              "    </tr>\n",
              "    <tr>\n",
              "      <th>volatile acidity</th>\n",
              "      <td>4898.0</td>\n",
              "      <td>0.278241</td>\n",
              "      <td>0.100795</td>\n",
              "      <td>0.08000</td>\n",
              "      <td>0.210000</td>\n",
              "      <td>0.26000</td>\n",
              "      <td>0.3200</td>\n",
              "      <td>1.10000</td>\n",
              "    </tr>\n",
              "    <tr>\n",
              "      <th>citric acid</th>\n",
              "      <td>4898.0</td>\n",
              "      <td>0.334192</td>\n",
              "      <td>0.121020</td>\n",
              "      <td>0.00000</td>\n",
              "      <td>0.270000</td>\n",
              "      <td>0.32000</td>\n",
              "      <td>0.3900</td>\n",
              "      <td>1.66000</td>\n",
              "    </tr>\n",
              "    <tr>\n",
              "      <th>residual sugar</th>\n",
              "      <td>4898.0</td>\n",
              "      <td>6.391415</td>\n",
              "      <td>5.072058</td>\n",
              "      <td>0.60000</td>\n",
              "      <td>1.700000</td>\n",
              "      <td>5.20000</td>\n",
              "      <td>9.9000</td>\n",
              "      <td>65.80000</td>\n",
              "    </tr>\n",
              "    <tr>\n",
              "      <th>chlorides</th>\n",
              "      <td>4898.0</td>\n",
              "      <td>0.045772</td>\n",
              "      <td>0.021848</td>\n",
              "      <td>0.00900</td>\n",
              "      <td>0.036000</td>\n",
              "      <td>0.04300</td>\n",
              "      <td>0.0500</td>\n",
              "      <td>0.34600</td>\n",
              "    </tr>\n",
              "    <tr>\n",
              "      <th>free sulfur dioxide</th>\n",
              "      <td>4898.0</td>\n",
              "      <td>35.308085</td>\n",
              "      <td>17.007137</td>\n",
              "      <td>2.00000</td>\n",
              "      <td>23.000000</td>\n",
              "      <td>34.00000</td>\n",
              "      <td>46.0000</td>\n",
              "      <td>289.00000</td>\n",
              "    </tr>\n",
              "    <tr>\n",
              "      <th>total sulfur dioxide</th>\n",
              "      <td>4898.0</td>\n",
              "      <td>138.360657</td>\n",
              "      <td>42.498065</td>\n",
              "      <td>9.00000</td>\n",
              "      <td>108.000000</td>\n",
              "      <td>134.00000</td>\n",
              "      <td>167.0000</td>\n",
              "      <td>440.00000</td>\n",
              "    </tr>\n",
              "    <tr>\n",
              "      <th>density</th>\n",
              "      <td>4898.0</td>\n",
              "      <td>0.994027</td>\n",
              "      <td>0.002991</td>\n",
              "      <td>0.98711</td>\n",
              "      <td>0.991723</td>\n",
              "      <td>0.99374</td>\n",
              "      <td>0.9961</td>\n",
              "      <td>1.03898</td>\n",
              "    </tr>\n",
              "    <tr>\n",
              "      <th>pH</th>\n",
              "      <td>4898.0</td>\n",
              "      <td>3.188267</td>\n",
              "      <td>0.151001</td>\n",
              "      <td>2.72000</td>\n",
              "      <td>3.090000</td>\n",
              "      <td>3.18000</td>\n",
              "      <td>3.2800</td>\n",
              "      <td>3.82000</td>\n",
              "    </tr>\n",
              "    <tr>\n",
              "      <th>sulphates</th>\n",
              "      <td>4898.0</td>\n",
              "      <td>0.489847</td>\n",
              "      <td>0.114126</td>\n",
              "      <td>0.22000</td>\n",
              "      <td>0.410000</td>\n",
              "      <td>0.47000</td>\n",
              "      <td>0.5500</td>\n",
              "      <td>1.08000</td>\n",
              "    </tr>\n",
              "    <tr>\n",
              "      <th>alcohol</th>\n",
              "      <td>4898.0</td>\n",
              "      <td>10.514267</td>\n",
              "      <td>1.230621</td>\n",
              "      <td>8.00000</td>\n",
              "      <td>9.500000</td>\n",
              "      <td>10.40000</td>\n",
              "      <td>11.4000</td>\n",
              "      <td>14.20000</td>\n",
              "    </tr>\n",
              "    <tr>\n",
              "      <th>quality</th>\n",
              "      <td>4898.0</td>\n",
              "      <td>5.877909</td>\n",
              "      <td>0.885639</td>\n",
              "      <td>3.00000</td>\n",
              "      <td>5.000000</td>\n",
              "      <td>6.00000</td>\n",
              "      <td>6.0000</td>\n",
              "      <td>9.00000</td>\n",
              "    </tr>\n",
              "  </tbody>\n",
              "</table>\n",
              "</div>"
            ],
            "text/plain": [
              "                       count        mean  ...       75%        max\n",
              "fixed acidity         4898.0    6.854788  ...    7.3000   14.20000\n",
              "volatile acidity      4898.0    0.278241  ...    0.3200    1.10000\n",
              "citric acid           4898.0    0.334192  ...    0.3900    1.66000\n",
              "residual sugar        4898.0    6.391415  ...    9.9000   65.80000\n",
              "chlorides             4898.0    0.045772  ...    0.0500    0.34600\n",
              "free sulfur dioxide   4898.0   35.308085  ...   46.0000  289.00000\n",
              "total sulfur dioxide  4898.0  138.360657  ...  167.0000  440.00000\n",
              "density               4898.0    0.994027  ...    0.9961    1.03898\n",
              "pH                    4898.0    3.188267  ...    3.2800    3.82000\n",
              "sulphates             4898.0    0.489847  ...    0.5500    1.08000\n",
              "alcohol               4898.0   10.514267  ...   11.4000   14.20000\n",
              "quality               4898.0    5.877909  ...    6.0000    9.00000\n",
              "\n",
              "[12 rows x 8 columns]"
            ]
          },
          "metadata": {
            "tags": []
          },
          "execution_count": 28
        }
      ]
    },
    {
      "cell_type": "code",
      "metadata": {
        "id": "I30oLiTHGQD_",
        "colab": {
          "base_uri": "https://localhost:8080/"
        },
        "outputId": "2d823b05-77e0-4c64-c96d-d21c400fe490"
      },
      "source": [
        "winedata.quality.value_counts().sort_index()"
      ],
      "execution_count": 29,
      "outputs": [
        {
          "output_type": "execute_result",
          "data": {
            "text/plain": [
              "3      20\n",
              "4     163\n",
              "5    1457\n",
              "6    2198\n",
              "7     880\n",
              "8     175\n",
              "9       5\n",
              "Name: quality, dtype: int64"
            ]
          },
          "metadata": {
            "tags": []
          },
          "execution_count": 29
        }
      ]
    },
    {
      "cell_type": "markdown",
      "metadata": {
        "id": "bQr2w4_NV_m9"
      },
      "source": [
        "## <b>Quality graph with other attributes "
      ]
    },
    {
      "cell_type": "code",
      "metadata": {
        "id": "7JehSMgwWFwz",
        "colab": {
          "base_uri": "https://localhost:8080/",
          "height": 347
        },
        "outputId": "94e0c73c-f1d1-4c1b-d71d-bae77a9b1b94"
      },
      "source": [
        "bx = sns.boxplot(x=\"quality\", y='alcohol', data = winedata)\r\n",
        "bx.set(xlabel='Wine Quality', ylabel='Alcohol Percent', title='Alcohol percent in different wine quality types')"
      ],
      "execution_count": 30,
      "outputs": [
        {
          "output_type": "execute_result",
          "data": {
            "text/plain": [
              "[Text(0.5, 0, 'Wine Quality'),\n",
              " Text(0, 0.5, 'Alcohol Percent'),\n",
              " Text(0.5, 1.0, 'Alcohol percent in different wine quality types')]"
            ]
          },
          "metadata": {
            "tags": []
          },
          "execution_count": 30
        },
        {
          "output_type": "display_data",
          "data": {
            "image/png": "[encoded data removed]",
            "text/plain": [
              "<Figure size 432x288 with 1 Axes>"
            ]
          },
          "metadata": {
            "tags": [],
            "needs_background": "light"
          }
        }
      ]
    },
    {
      "cell_type": "code",
      "metadata": {
        "id": "g-oA3WVZGQG_",
        "colab": {
          "base_uri": "https://localhost:8080/",
          "height": 280
        },
        "outputId": "e4e71bbe-9e8c-4e93-87ff-d6ce90a372f1"
      },
      "source": [
        "winedata['quality'].value_counts().head(100).plot.bar()"
      ],
      "execution_count": 31,
      "outputs": [
        {
          "output_type": "execute_result",
          "data": {
            "text/plain": [
              "<AxesSubplot:>"
            ]
          },
          "metadata": {
            "tags": []
          },
          "execution_count": 31
        },
        {
          "output_type": "display_data",
          "data": {
            "image/png": "[encoded data removed]",
            "text/plain": [
              "<Figure size 432x288 with 1 Axes>"
            ]
          },
          "metadata": {
            "tags": [],
            "needs_background": "light"
          }
        }
      ]
    },
    {
      "cell_type": "code",
      "metadata": {
        "id": "2WdrBPpkGQKn",
        "colab": {
          "base_uri": "https://localhost:8080/",
          "height": 296
        },
        "outputId": "321020bb-f829-4e1b-9e4b-d9e97aac919a"
      },
      "source": [
        "sns.countplot(x='quality', data=winedata)"
      ],
      "execution_count": 32,
      "outputs": [
        {
          "output_type": "execute_result",
          "data": {
            "text/plain": [
              "<AxesSubplot:xlabel='quality', ylabel='count'>"
            ]
          },
          "metadata": {
            "tags": []
          },
          "execution_count": 32
        },
        {
          "output_type": "display_data",
          "data": {
            "image/png": "[encoded data removed]",
            "text/plain": [
              "<Figure size 432x288 with 1 Axes>"
            ]
          },
          "metadata": {
            "tags": [],
            "needs_background": "light"
          }
        }
      ]
    },
    {
      "cell_type": "markdown",
      "metadata": {
        "id": "25HsO0HFObVL"
      },
      "source": [
        "## <b> Correlation between different features using corelation map "
      ]
    },
    {
      "cell_type": "code",
      "metadata": {
        "id": "ddpgCM41G3e-",
        "colab": {
          "base_uri": "https://localhost:8080/",
          "height": 648
        },
        "outputId": "38af68fe-016f-4dfb-ff91-dc5441eec0ed"
      },
      "source": [
        "correlation= winedata.corr()\r\n",
        "mask = np.array(correlation)\r\n",
        "mask[np.tril_indices_from(mask)] = False\r\n",
        "fig=plt.gcf()\r\n",
        "fig.set_size_inches(10,10)\r\n",
        "sns.heatmap(data=correlation,mask=mask,square=True,annot=True,cbar=True,cmap=\"YlGnBu\")"
      ],
      "execution_count": 33,
      "outputs": [
        {
          "output_type": "execute_result",
          "data": {
            "text/plain": [
              "<AxesSubplot:>"
            ]
          },
          "metadata": {
            "tags": []
          },
          "execution_count": 33
        },
        {
          "output_type": "display_data",
          "data": {
            "image/png": "[encoded data removed]",
            "text/plain": [
              "<Figure size 720x720 with 2 Axes>"
            ]
          },
          "metadata": {
            "tags": [],
            "needs_background": "light"
          }
        }
      ]
    },
    {
      "cell_type": "code",
      "metadata": {
        "id": "92n9dQvyNECL",
        "colab": {
          "base_uri": "https://localhost:8080/",
          "height": 347
        },
        "outputId": "801a8ba9-d5af-4cda-e7ff-c7b306698f0e"
      },
      "source": [
        "bx = sns.swarmplot(x=\"quality\", y=\"pH\", data = winedata);\r\n",
        "bx.set(xlabel='Wine Ratings', ylabel='pH', title='pH in different types of Wine ratings')"
      ],
      "execution_count": 34,
      "outputs": [
        {
          "output_type": "execute_result",
          "data": {
            "text/plain": [
              "[Text(0.5, 0, 'Wine Ratings'),\n",
              " Text(0, 0.5, 'pH'),\n",
              " Text(0.5, 1.0, 'pH in different types of Wine ratings')]"
            ]
          },
          "metadata": {
            "tags": []
          },
          "execution_count": 34
        },
        {
          "output_type": "display_data",
          "data": {
            "image/png": "[encoded data removed]",
            "text/plain": [
              "<Figure size 432x288 with 1 Axes>"
            ]
          },
          "metadata": {
            "tags": [],
            "needs_background": "light"
          }
        }
      ]
    },
    {
      "cell_type": "code",
      "metadata": {
        "id": "OI1u-q04Oyva",
        "colab": {
          "base_uri": "https://localhost:8080/"
        },
        "outputId": "8025ce64-9381-4046-8f5d-40396aacfda3"
      },
      "source": [
        "correlation['quality'].sort_values(ascending=False)"
      ],
      "execution_count": 35,
      "outputs": [
        {
          "output_type": "execute_result",
          "data": {
            "text/plain": [
              "quality                 1.000000\n",
              "alcohol                 0.435575\n",
              "pH                      0.099427\n",
              "sulphates               0.053678\n",
              "free sulfur dioxide     0.008158\n",
              "citric acid            -0.009209\n",
              "residual sugar         -0.097577\n",
              "fixed acidity          -0.113663\n",
              "total sulfur dioxide   -0.174737\n",
              "volatile acidity       -0.194723\n",
              "chlorides              -0.209934\n",
              "density                -0.307123\n",
              "Name: quality, dtype: float64"
            ]
          },
          "metadata": {
            "tags": []
          },
          "execution_count": 35
        }
      ]
    },
    {
      "cell_type": "markdown",
      "metadata": {
        "id": "xsrSabNZbKHm"
      },
      "source": [
        "## **Gather training and testing data**"
      ]
    },
    {
      "cell_type": "code",
      "metadata": {
        "id": "zOEDK0EVHxHv"
      },
      "source": [
        "# Since the numbers 3-9 don't really mean much, I map these to low(0), average(1), and high(2)\r\n",
        "bins = [0, 5.5, 7.5, 10] # this means 3-5 are low, 6-7 are average, and 8-9 are high\r\n",
        "#the quality is now 0,1, or 2\r\n",
        "labels = [0, 1, 2]\r\n",
        "winedata['quality'] = pd.cut(winedata['quality'], bins=bins, labels=labels)"
      ],
      "execution_count": 36,
      "outputs": []
    },
    {
      "cell_type": "code",
      "metadata": {
        "id": "sxVdIdHTH2Df",
        "colab": {
          "base_uri": "https://localhost:8080/",
          "height": 197
        },
        "outputId": "54b354e1-14f3-4bad-8fa9-0c61eca8e675"
      },
      "source": [
        "winedata.head(5)"
      ],
      "execution_count": 37,
      "outputs": [
        {
          "output_type": "execute_result",
          "data": {
            "text/html": [
              "<div>\n",
              "<style scoped>\n",
              "    .dataframe tbody tr th:only-of-type {\n",
              "        vertical-align: middle;\n",
              "    }\n",
              "\n",
              "    .dataframe tbody tr th {\n",
              "        vertical-align: top;\n",
              "    }\n",
              "\n",
              "    .dataframe thead th {\n",
              "        text-align: right;\n",
              "    }\n",
              "</style>\n",
              "<table border=\"1\" class=\"dataframe\">\n",
              "  <thead>\n",
              "    <tr style=\"text-align: right;\">\n",
              "      <th></th>\n",
              "      <th>fixed acidity</th>\n",
              "      <th>volatile acidity</th>\n",
              "      <th>citric acid</th>\n",
              "      <th>residual sugar</th>\n",
              "      <th>chlorides</th>\n",
              "      <th>free sulfur dioxide</th>\n",
              "      <th>total sulfur dioxide</th>\n",
              "      <th>density</th>\n",
              "      <th>pH</th>\n",
              "      <th>sulphates</th>\n",
              "      <th>alcohol</th>\n",
              "      <th>quality</th>\n",
              "    </tr>\n",
              "  </thead>\n",
              "  <tbody>\n",
              "    <tr>\n",
              "      <th>0</th>\n",
              "      <td>7.0</td>\n",
              "      <td>0.27</td>\n",
              "      <td>0.36</td>\n",
              "      <td>20.7</td>\n",
              "      <td>0.045</td>\n",
              "      <td>45.0</td>\n",
              "      <td>170.0</td>\n",
              "      <td>1.0010</td>\n",
              "      <td>3.00</td>\n",
              "      <td>0.45</td>\n",
              "      <td>8.8</td>\n",
              "      <td>1</td>\n",
              "    </tr>\n",
              "    <tr>\n",
              "      <th>1</th>\n",
              "      <td>6.3</td>\n",
              "      <td>0.30</td>\n",
              "      <td>0.34</td>\n",
              "      <td>1.6</td>\n",
              "      <td>0.049</td>\n",
              "      <td>14.0</td>\n",
              "      <td>132.0</td>\n",
              "      <td>0.9940</td>\n",
              "      <td>3.30</td>\n",
              "      <td>0.49</td>\n",
              "      <td>9.5</td>\n",
              "      <td>1</td>\n",
              "    </tr>\n",
              "    <tr>\n",
              "      <th>2</th>\n",
              "      <td>8.1</td>\n",
              "      <td>0.28</td>\n",
              "      <td>0.40</td>\n",
              "      <td>6.9</td>\n",
              "      <td>0.050</td>\n",
              "      <td>30.0</td>\n",
              "      <td>97.0</td>\n",
              "      <td>0.9951</td>\n",
              "      <td>3.26</td>\n",
              "      <td>0.44</td>\n",
              "      <td>10.1</td>\n",
              "      <td>1</td>\n",
              "    </tr>\n",
              "    <tr>\n",
              "      <th>3</th>\n",
              "      <td>7.2</td>\n",
              "      <td>0.23</td>\n",
              "      <td>0.32</td>\n",
              "      <td>8.5</td>\n",
              "      <td>0.058</td>\n",
              "      <td>47.0</td>\n",
              "      <td>186.0</td>\n",
              "      <td>0.9956</td>\n",
              "      <td>3.19</td>\n",
              "      <td>0.40</td>\n",
              "      <td>9.9</td>\n",
              "      <td>1</td>\n",
              "    </tr>\n",
              "    <tr>\n",
              "      <th>4</th>\n",
              "      <td>7.2</td>\n",
              "      <td>0.23</td>\n",
              "      <td>0.32</td>\n",
              "      <td>8.5</td>\n",
              "      <td>0.058</td>\n",
              "      <td>47.0</td>\n",
              "      <td>186.0</td>\n",
              "      <td>0.9956</td>\n",
              "      <td>3.19</td>\n",
              "      <td>0.40</td>\n",
              "      <td>9.9</td>\n",
              "      <td>1</td>\n",
              "    </tr>\n",
              "  </tbody>\n",
              "</table>\n",
              "</div>"
            ],
            "text/plain": [
              "   fixed acidity  volatile acidity  citric acid  ...  sulphates  alcohol  quality\n",
              "0            7.0              0.27         0.36  ...       0.45      8.8        1\n",
              "1            6.3              0.30         0.34  ...       0.49      9.5        1\n",
              "2            8.1              0.28         0.40  ...       0.44     10.1        1\n",
              "3            7.2              0.23         0.32  ...       0.40      9.9        1\n",
              "4            7.2              0.23         0.32  ...       0.40      9.9        1\n",
              "\n",
              "[5 rows x 12 columns]"
            ]
          },
          "metadata": {
            "tags": []
          },
          "execution_count": 37
        }
      ]
    },
    {
      "cell_type": "code",
      "metadata": {
        "id": "LQmLqp_eH6G_"
      },
      "source": [
        "x = winedata[winedata.columns[:-1]]\r\n",
        "y = winedata['quality']\r\n",
        "sc = StandardScaler()\r\n",
        "x = sc.fit_transform(x)\r\n",
        "#produce my training and testing variables\r\n",
        "#We're getting 80% of data and then the remaining 20% is our testing data \r\n",
        "x_train, x_test, y_train, y_test = train_test_split(x, y, test_size=.2, random_state=42)"
      ],
      "execution_count": 38,
      "outputs": []
    },
    {
      "cell_type": "code",
      "metadata": {
        "id": "3lDqDrM9H-LP",
        "colab": {
          "base_uri": "https://localhost:8080/"
        },
        "outputId": "402be1eb-9fa9-4622-e6f6-18a53e115958"
      },
      "source": [
        "for datas in [y_train, y_test]:\r\n",
        "    print(datas.describe())"
      ],
      "execution_count": 39,
      "outputs": [
        {
          "output_type": "stream",
          "text": [
            "count     3918\n",
            "unique       3\n",
            "top          1\n",
            "freq      2454\n",
            "Name: quality, dtype: int64\n",
            "count     980\n",
            "unique      3\n",
            "top         1\n",
            "freq      624\n",
            "Name: quality, dtype: int64\n"
          ],
          "name": "stdout"
        }
      ]
    },
    {
      "cell_type": "markdown",
      "metadata": {
        "id": "y4-Hd_TYIO15"
      },
      "source": [
        "## **K Nearest Neighbors Classifier**"
      ]
    },
    {
      "cell_type": "code",
      "metadata": {
        "id": "Q1u44BDMIPru",
        "colab": {
          "base_uri": "https://localhost:8080/"
        },
        "outputId": "9abfe0f3-1c93-4071-c7af-1e3b958e06a1"
      },
      "source": [
        "KN3 = KNeighborsClassifier(n_neighbors = 3)\r\n",
        "KN3.fit(x_train, y_train)\r\n",
        "pred_KN3 = KN3.predict(x_test)\r\n",
        "print(classification_report(y_test, pred_KN3))\r\n",
        "cross_val = cross_val_score(estimator=KN3, X=x_train, y=y_train, cv=10)\r\n",
        "print(cross_val.mean())"
      ],
      "execution_count": 40,
      "outputs": [
        {
          "output_type": "stream",
          "text": [
            "              precision    recall  f1-score   support\n",
            "\n",
            "           0       0.62      0.62      0.62       321\n",
            "           1       0.77      0.79      0.78       624\n",
            "           2       0.39      0.26      0.31        35\n",
            "\n",
            "    accuracy                           0.72       980\n",
            "   macro avg       0.60      0.56      0.57       980\n",
            "weighted avg       0.71      0.72      0.71       980\n",
            "\n",
            "0.7292016806722689\n"
          ],
          "name": "stdout"
        }
      ]
    },
    {
      "cell_type": "code",
      "metadata": {
        "id": "AXSajmoQJvUZ",
        "colab": {
          "base_uri": "https://localhost:8080/"
        },
        "outputId": "50b47dc5-ee65-4cd3-d2db-aa5ac40d5acb"
      },
      "source": [
        "KN5 = KNeighborsClassifier(n_neighbors = 5)\r\n",
        "KN5.fit(x_train, y_train)\r\n",
        "pred_KN5 = KN5.predict(x_test)\r\n",
        "print(classification_report(y_test, pred_KN5))\r\n",
        "cross_val = cross_val_score(estimator=KN5, X=x_train, y=y_train, cv=10)\r\n",
        "print(cross_val.mean())"
      ],
      "execution_count": 41,
      "outputs": [
        {
          "output_type": "stream",
          "text": [
            "              precision    recall  f1-score   support\n",
            "\n",
            "           0       0.64      0.59      0.62       321\n",
            "           1       0.76      0.82      0.79       624\n",
            "           2       0.33      0.11      0.17        35\n",
            "\n",
            "    accuracy                           0.72       980\n",
            "   macro avg       0.58      0.51      0.52       980\n",
            "weighted avg       0.71      0.72      0.71       980\n",
            "\n",
            "0.7225618508272874\n"
          ],
          "name": "stdout"
        }
      ]
    },
    {
      "cell_type": "markdown",
      "metadata": {
        "id": "Ej-cdzunJy2I"
      },
      "source": [
        "## **Random Forest Classifier**"
      ]
    },
    {
      "cell_type": "code",
      "metadata": {
        "id": "DfkbAQSEJzRu",
        "colab": {
          "base_uri": "https://localhost:8080/"
        },
        "outputId": "b67cb17b-854c-4fa1-f0f8-d804fc648b1b"
      },
      "source": [
        "rf = RandomForestClassifier()\r\n",
        "rf.fit(x_train, y_train)\r\n",
        "pred_rf = rf.predict(x_test)\r\n",
        "print(classification_report(y_test, pred_rf))\r\n",
        "cross_val = cross_val_score(estimator=rf, X=x_train, y=y_train, cv=10)\r\n",
        "print(cross_val.mean())"
      ],
      "execution_count": 42,
      "outputs": [
        {
          "output_type": "stream",
          "text": [
            "              precision    recall  f1-score   support\n",
            "\n",
            "           0       0.78      0.72      0.75       321\n",
            "           1       0.83      0.89      0.86       624\n",
            "           2       0.93      0.40      0.56        35\n",
            "\n",
            "    accuracy                           0.82       980\n",
            "   macro avg       0.85      0.67      0.72       980\n",
            "weighted avg       0.82      0.82      0.81       980\n",
            "\n",
            "0.8070384675609373\n"
          ],
          "name": "stdout"
        }
      ]
    },
    {
      "cell_type": "markdown",
      "metadata": {
        "id": "ecimPXG7J6qw"
      },
      "source": [
        "## **Decision Tree Classifier**"
      ]
    },
    {
      "cell_type": "code",
      "metadata": {
        "id": "GqstKVA5J7dW",
        "colab": {
          "base_uri": "https://localhost:8080/"
        },
        "outputId": "98701316-7278-4fa4-f21b-b7351eba2e9f"
      },
      "source": [
        "DT = DecisionTreeClassifier()\r\n",
        "DT.fit(x_train, y_train)\r\n",
        "pred_DT = DT.predict(x_test)\r\n",
        "print(classification_report(y_test, pred_DT))\r\n",
        "cross_val = cross_val_score(estimator=DT, X=x_train, y=y_train, cv=10)\r\n",
        "print(cross_val.mean())"
      ],
      "execution_count": 43,
      "outputs": [
        {
          "output_type": "stream",
          "text": [
            "              precision    recall  f1-score   support\n",
            "\n",
            "           0       0.66      0.67      0.66       321\n",
            "           1       0.81      0.78      0.80       624\n",
            "           2       0.35      0.49      0.41        35\n",
            "\n",
            "    accuracy                           0.74       980\n",
            "   macro avg       0.61      0.65      0.62       980\n",
            "weighted avg       0.74      0.74      0.74       980\n",
            "\n",
            "0.7422125371887887\n"
          ],
          "name": "stdout"
        }
      ]
    },
    {
      "cell_type": "markdown",
      "metadata": {
        "id": "oN298wrTKBKq"
      },
      "source": [
        "## **Stochastic Gradient**"
      ]
    },
    {
      "cell_type": "code",
      "metadata": {
        "id": "eakW_iV4J71Z",
        "colab": {
          "base_uri": "https://localhost:8080/"
        },
        "outputId": "c969cc3a-d9fa-4ea5-d032-dbc0973778cb"
      },
      "source": [
        "sgd = SGDClassifier()\r\n",
        "sgd.fit(x_train, y_train)\r\n",
        "pred_sgd = sgd.predict(x_test)\r\n",
        "print(classification_report(y_test, pred_sgd))\r\n",
        "cross_val = cross_val_score(estimator=sgd, X=x_train, y=y_train, cv=10)\r\n",
        "print(cross_val.mean())"
      ],
      "execution_count": 44,
      "outputs": [
        {
          "output_type": "stream",
          "text": [
            "              precision    recall  f1-score   support\n",
            "\n",
            "           0       0.65      0.37      0.47       321\n",
            "           1       0.70      0.90      0.79       624\n",
            "           2       0.00      0.00      0.00        35\n",
            "\n",
            "    accuracy                           0.69       980\n",
            "   macro avg       0.45      0.42      0.42       980\n",
            "weighted avg       0.66      0.69      0.66       980\n",
            "\n",
            "0.6977986846912678\n"
          ],
          "name": "stdout"
        }
      ]
    },
    {
      "cell_type": "markdown",
      "metadata": {
        "id": "r5ace3-SKYgy"
      },
      "source": [
        "## **AdaBoost Classifier**"
      ]
    },
    {
      "cell_type": "code",
      "metadata": {
        "id": "gGba0pj0J7_P",
        "colab": {
          "base_uri": "https://localhost:8080/"
        },
        "outputId": "7ac84075-cf19-4b70-c1e4-4932832672f1"
      },
      "source": [
        "\r\n",
        "from sklearn.ensemble import AdaBoostClassifier\r\n",
        "model3 = AdaBoostClassifier(random_state=1)\r\n",
        "model3.fit(x_train, y_train)\r\n",
        "y_pred3 = model3.predict(x_test)\r\n",
        "print(classification_report(y_test, y_pred3))\r\n",
        "cross_val = cross_val_score(estimator=sgd, X=x_train, y=y_train, cv=10)\r\n",
        "print(cross_val.mean())"
      ],
      "execution_count": 45,
      "outputs": [
        {
          "output_type": "stream",
          "text": [
            "              precision    recall  f1-score   support\n",
            "\n",
            "           0       0.62      0.54      0.58       321\n",
            "           1       0.74      0.83      0.78       624\n",
            "           2       0.33      0.06      0.10        35\n",
            "\n",
            "    accuracy                           0.71       980\n",
            "   macro avg       0.57      0.47      0.49       980\n",
            "weighted avg       0.69      0.71      0.69       980\n",
            "\n",
            "0.7031584372879587\n"
          ],
          "name": "stdout"
        }
      ]
    },
    {
      "cell_type": "markdown",
      "metadata": {
        "id": "5uFMNom8K1EJ"
      },
      "source": [
        "## **Gradient Boosting**"
      ]
    },
    {
      "cell_type": "code",
      "metadata": {
        "id": "BrIIhdvNJ8CI",
        "colab": {
          "base_uri": "https://localhost:8080/"
        },
        "outputId": "b54e9114-fa10-46d5-919f-d07eb7f79970"
      },
      "source": [
        "from sklearn.ensemble import GradientBoostingClassifier\r\n",
        "model4 = GradientBoostingClassifier(random_state=1)\r\n",
        "model4.fit(x_train, y_train)\r\n",
        "y_pred4 = model4.predict(x_test)\r\n",
        "print(classification_report(y_test, y_pred4))\r\n",
        "cross_val = cross_val_score(estimator=sgd, X=x_train, y=y_train, cv=10)\r\n",
        "print(cross_val.mean())"
      ],
      "execution_count": 46,
      "outputs": [
        {
          "output_type": "stream",
          "text": [
            "              precision    recall  f1-score   support\n",
            "\n",
            "           0       0.69      0.61      0.65       321\n",
            "           1       0.78      0.86      0.82       624\n",
            "           2       0.75      0.17      0.28        35\n",
            "\n",
            "    accuracy                           0.75       980\n",
            "   macro avg       0.74      0.55      0.58       980\n",
            "weighted avg       0.75      0.75      0.74       980\n",
            "\n",
            "0.7024061798632497\n"
          ],
          "name": "stdout"
        }
      ]
    },
    {
      "cell_type": "markdown",
      "metadata": {
        "id": "9wg6dwodK7eC"
      },
      "source": [
        "## **XGBOOST**"
      ]
    },
    {
      "cell_type": "code",
      "metadata": {
        "id": "FCwHEfSxJ8E6",
        "colab": {
          "base_uri": "https://localhost:8080/",
          "height": 543
        },
        "outputId": "8f7205f6-7698-4624-b833-93124a481ba2"
      },
      "source": [
        "\r\n",
        "model5 = xgb.XGBClassifier(random_state=1)\r\n",
        "model5.fit(x_train, y_train)\r\n",
        "y_pred5 = model5.predict(x_test)\r\n",
        "print(classification_report(y_test, y_pred5))\r\n",
        "cross_val = cross_val_score(estimator=sgd, X=x_train, y=y_train, cv=10)\r\n",
        "print(cross_val.mean())\r\n",
        "from sklearn.metrics import confusion_matrix\r\n",
        "import seaborn as sns\r\n",
        "ax = sns.heatmap(confusion_matrix(y_test, y_pred5), annot=True)\r\n",
        "ax.set(title=\"Confusion Matrix\",\r\n",
        "  xlabel=\"True Label\",\r\n",
        "  ylabel=\"Predicted Label\")"
      ],
      "execution_count": 47,
      "outputs": [
        {
          "output_type": "stream",
          "text": [
            "              precision    recall  f1-score   support\n",
            "\n",
            "           0       0.65      0.57      0.61       321\n",
            "           1       0.76      0.84      0.80       624\n",
            "           2       1.00      0.06      0.11        35\n",
            "\n",
            "    accuracy                           0.73       980\n",
            "   macro avg       0.80      0.49      0.50       980\n",
            "weighted avg       0.73      0.73      0.71       980\n",
            "\n",
            "0.6990761522000105\n"
          ],
          "name": "stdout"
        },
        {
          "output_type": "execute_result",
          "data": {
            "text/plain": [
              "[Text(0.5, 1.0, 'Confusion Matrix'),\n",
              " Text(0.5, 15.0, 'True Label'),\n",
              " Text(33.0, 0.5, 'Predicted Label')]"
            ]
          },
          "metadata": {
            "tags": []
          },
          "execution_count": 47
        },
        {
          "output_type": "display_data",
          "data": {
            "image/png": "[encoded data removed]",
            "text/plain": [
              "<Figure size 432x288 with 2 Axes>"
            ]
          },
          "metadata": {
            "tags": [],
            "needs_background": "light"
          }
        }
      ]
    },
    {
      "cell_type": "markdown",
      "metadata": {
        "id": "2wD9ZD93pMLD"
      },
      "source": [
        "## **NEURAL NETWORK**"
      ]
    },
    {
      "cell_type": "code",
      "metadata": {
        "id": "J2sXVoPupLKg",
        "colab": {
          "base_uri": "https://localhost:8080/"
        },
        "outputId": "b8a008aa-5456-4f3d-c534-89b307624b87"
      },
      "source": [
        "\r\n",
        "from sklearn.neural_network import MLPClassifier\r\n",
        "NeuralClf =  MLPClassifier(solver = 'lbfgs', alpha = 1e-5, hidden_layer_sizes =(5,2), random_state =1)\r\n",
        "NeuralClf.fit(x_train, y_train)\r\n",
        "NeuralY_Pred = NeuralClf.predict(x_test)\r\n",
        "\r\n",
        "#CONFUSION MATRIX and CLASSIFICATION REPORT\r\n",
        "from sklearn.metrics import classification_report, confusion_matrix\r\n",
        "print(\"The confusion_matrix is:\\n\")\r\n",
        "print(confusion_matrix(y_test, NeuralY_Pred))\r\n",
        "print(\"\\nThe classification_report is:\\n\")\r\n",
        "print(classification_report(y_test, NeuralY_Pred))\r\n"
      ],
      "execution_count": 48,
      "outputs": [
        {
          "output_type": "stream",
          "text": [
            "The confusion_matrix is:\n",
            "\n",
            "[[187 134   0]\n",
            " [ 92 532   0]\n",
            " [  0  35   0]]\n",
            "\n",
            "The classification_report is:\n",
            "\n",
            "              precision    recall  f1-score   support\n",
            "\n",
            "           0       0.67      0.58      0.62       321\n",
            "           1       0.76      0.85      0.80       624\n",
            "           2       0.00      0.00      0.00        35\n",
            "\n",
            "    accuracy                           0.73       980\n",
            "   macro avg       0.48      0.48      0.48       980\n",
            "weighted avg       0.70      0.73      0.72       980\n",
            "\n"
          ],
          "name": "stdout"
        }
      ]
    },
    {
      "cell_type": "markdown",
      "metadata": {
        "id": "D5nwZ4DAi2r-"
      },
      "source": [
        "## **Using PyTorch**"
      ]
    },
    {
      "cell_type": "code",
      "metadata": {
        "id": "PGAYSQJleK37"
      },
      "source": [
        "input_cols = list(winedata.columns)[:-1]\r\n",
        "input_cols\r\n",
        "output_cols = ['quality']"
      ],
      "execution_count": 49,
      "outputs": []
    },
    {
      "cell_type": "code",
      "metadata": {
        "id": "i-ikC7FPd6bM"
      },
      "source": [
        "def dataframe_to_arrays(winedata):\r\n",
        "    # Make a copy of the original dataframe\r\n",
        "    df1 = winedata.copy(deep=True)\r\n",
        "    # Extract input & outputs as numpy arrays\r\n",
        "    inputs_array = df1[input_cols].to_numpy()\r\n",
        "    targets_array = df1[output_cols].to_numpy()\r\n",
        "    return inputs_array, targets_array"
      ],
      "execution_count": 50,
      "outputs": []
    },
    {
      "cell_type": "code",
      "metadata": {
        "id": "jneoJ4Agd04U",
        "colab": {
          "base_uri": "https://localhost:8080/"
        },
        "outputId": "397192a1-9796-4e43-9a90-fef0520994e8"
      },
      "source": [
        "inputs_array, targets_array = dataframe_to_arrays(winedata)\r\n",
        "inputs_array, targets_array"
      ],
      "execution_count": 51,
      "outputs": [
        {
          "output_type": "execute_result",
          "data": {
            "text/plain": [
              "(array([[ 7.  ,  0.27,  0.36, ...,  3.  ,  0.45,  8.8 ],\n",
              "        [ 6.3 ,  0.3 ,  0.34, ...,  3.3 ,  0.49,  9.5 ],\n",
              "        [ 8.1 ,  0.28,  0.4 , ...,  3.26,  0.44, 10.1 ],\n",
              "        ...,\n",
              "        [ 6.5 ,  0.24,  0.19, ...,  2.99,  0.46,  9.4 ],\n",
              "        [ 5.5 ,  0.29,  0.3 , ...,  3.34,  0.38, 12.8 ],\n",
              "        [ 6.  ,  0.21,  0.38, ...,  3.26,  0.32, 11.8 ]]), array([[1],\n",
              "        [1],\n",
              "        [1],\n",
              "        ...,\n",
              "        [1],\n",
              "        [1],\n",
              "        [1]]))"
            ]
          },
          "metadata": {
            "tags": []
          },
          "execution_count": 51
        }
      ]
    },
    {
      "cell_type": "code",
      "metadata": {
        "id": "5vPuiusqeW0D",
        "colab": {
          "base_uri": "https://localhost:8080/"
        },
        "outputId": "9824c7cb-468b-4384-b719-6e01bbc7a3fa"
      },
      "source": [
        "inputs_array.shape,targets_array.shape"
      ],
      "execution_count": 52,
      "outputs": [
        {
          "output_type": "execute_result",
          "data": {
            "text/plain": [
              "((4898, 11), (4898, 1))"
            ]
          },
          "metadata": {
            "tags": []
          },
          "execution_count": 52
        }
      ]
    },
    {
      "cell_type": "code",
      "metadata": {
        "id": "VSQ0eVi5eaAW"
      },
      "source": [
        "import torch\r\n",
        "inputs = torch.Tensor(inputs_array)\r\n",
        "targets = torch.Tensor(targets_array)"
      ],
      "execution_count": 53,
      "outputs": []
    },
    {
      "cell_type": "code",
      "metadata": {
        "id": "2kuewfsGeeV2"
      },
      "source": [
        "from torch.utils.data import DataLoader, TensorDataset, random_split\r\n",
        "dataset = TensorDataset(inputs, targets)"
      ],
      "execution_count": 54,
      "outputs": []
    },
    {
      "cell_type": "code",
      "metadata": {
        "id": "zDbtCCgEehss",
        "colab": {
          "base_uri": "https://localhost:8080/"
        },
        "outputId": "bccc92c9-0bd5-42fc-c2ca-31f761289740"
      },
      "source": [
        "winedata.shape"
      ],
      "execution_count": 55,
      "outputs": [
        {
          "output_type": "execute_result",
          "data": {
            "text/plain": [
              "(4898, 12)"
            ]
          },
          "metadata": {
            "tags": []
          },
          "execution_count": 55
        }
      ]
    },
    {
      "cell_type": "code",
      "metadata": {
        "id": "CNxiTxPqemJ-"
      },
      "source": [
        "num_rows = len(winedata)\r\n",
        "val_percent = 0.01 # between 0.1 and 0.2\r\n",
        "val_size = int(num_rows * val_percent)\r\n",
        "train_size = num_rows - val_size\r\n",
        "\r\n",
        "\r\n",
        "train_df, val_df = random_split(dataset, [train_size, val_size]) "
      ],
      "execution_count": 56,
      "outputs": []
    },
    {
      "cell_type": "code",
      "metadata": {
        "id": "HO8ECbdueqrj"
      },
      "source": [
        "batch_size = 50"
      ],
      "execution_count": 57,
      "outputs": []
    },
    {
      "cell_type": "code",
      "metadata": {
        "id": "HUTatcEEetMW"
      },
      "source": [
        "train_loader = DataLoader(train_df, batch_size, shuffle=True)\r\n",
        "val_loader = DataLoader(val_df, batch_size)"
      ],
      "execution_count": 58,
      "outputs": []
    },
    {
      "cell_type": "code",
      "metadata": {
        "id": "go7HNMw7etPu",
        "colab": {
          "base_uri": "https://localhost:8080/"
        },
        "outputId": "0b21fa5c-afaf-4f9a-eac5-1a316f989d97"
      },
      "source": [
        "input_cols"
      ],
      "execution_count": 59,
      "outputs": [
        {
          "output_type": "execute_result",
          "data": {
            "text/plain": [
              "['fixed acidity',\n",
              " 'volatile acidity',\n",
              " 'citric acid',\n",
              " 'residual sugar',\n",
              " 'chlorides',\n",
              " 'free sulfur dioxide',\n",
              " 'total sulfur dioxide',\n",
              " 'density',\n",
              " 'pH',\n",
              " 'sulphates',\n",
              " 'alcohol']"
            ]
          },
          "metadata": {
            "tags": []
          },
          "execution_count": 59
        }
      ]
    },
    {
      "cell_type": "code",
      "metadata": {
        "id": "S5MEaa5CeyM8",
        "colab": {
          "base_uri": "https://localhost:8080/"
        },
        "outputId": "0d01ed64-9061-41b7-c856-28a3ebc8c63d"
      },
      "source": [
        "output_cols"
      ],
      "execution_count": 60,
      "outputs": [
        {
          "output_type": "execute_result",
          "data": {
            "text/plain": [
              "['quality']"
            ]
          },
          "metadata": {
            "tags": []
          },
          "execution_count": 60
        }
      ]
    },
    {
      "cell_type": "code",
      "metadata": {
        "id": "PmssnYuje0nk"
      },
      "source": [
        "input_size = len(input_cols)\r\n",
        "output_size = len(output_cols)"
      ],
      "execution_count": 61,
      "outputs": []
    },
    {
      "cell_type": "code",
      "metadata": {
        "id": "JTzEuUiXe41z"
      },
      "source": [
        "import torch.nn as nn\r\n",
        "class WineModel(nn.Module):\r\n",
        "    def __init__(self):\r\n",
        "        super().__init__()     \r\n",
        "        self.linear = nn.Linear(input_size, output_size) # fill this (hint: use input_size & output_size defined above)\r\n",
        "        #model initialized with random weight\r\n",
        "        \r\n",
        "    def forward(self, xb):\r\n",
        "        out = self.linear(xb)             # batch wise forwarding\r\n",
        "        return out\r\n",
        "    \r\n",
        "    def training_step(self, batch):\r\n",
        "        inputs, targets = batch \r\n",
        "        # Generate predictions\r\n",
        "        out = self(inputs)         \r\n",
        "        # Calcuate loss\r\n",
        "        loss = F.l1_loss(out, targets)  # batch wise training step and loss\r\n",
        "        return loss\r\n",
        "    \r\n",
        "    def validation_step(self, batch):\r\n",
        "        inputs, targets = batch\r\n",
        "        # Generate predictions\r\n",
        "        out = self(inputs)\r\n",
        "        # Calculate loss\r\n",
        "        loss =F.l1_loss(out, targets)       # batch wise validation and loss    \r\n",
        "        return {'val_loss': loss.detach()}\r\n",
        "        \r\n",
        "    def validation_epoch_end(self, outputs):\r\n",
        "        batch_losses = [x['val_loss'] for x in outputs]\r\n",
        "        epoch_loss = torch.stack(batch_losses).mean()   # Combine val losses of all batches as average\r\n",
        "        return {'val_loss': epoch_loss.item()}\r\n",
        "    \r\n",
        "    def epoch_end(self, epoch, result, num_epochs):\r\n",
        "        # Print result every 20th epoch\r\n",
        "        if (epoch+1) % 20 == 0 or epoch == num_epochs-1:\r\n",
        "            print(\"Epoch [{}], val_loss: {:.4f}\".format(epoch+1, result['val_loss']))"
      ],
      "execution_count": 62,
      "outputs": []
    },
    {
      "cell_type": "code",
      "metadata": {
        "id": "RrB9lJaPe_Qc"
      },
      "source": [
        "model =  WineModel()"
      ],
      "execution_count": 63,
      "outputs": []
    },
    {
      "cell_type": "code",
      "metadata": {
        "id": "0EaFtZUyfBhk",
        "colab": {
          "base_uri": "https://localhost:8080/"
        },
        "outputId": "b2ead6b6-919b-4523-f23a-fd40ea015309"
      },
      "source": [
        "list(model.parameters())"
      ],
      "execution_count": 64,
      "outputs": [
        {
          "output_type": "execute_result",
          "data": {
            "text/plain": [
              "[Parameter containing:\n",
              " tensor([[-0.2901,  0.0568, -0.1604,  0.2332, -0.1675, -0.2675, -0.1102, -0.2928,\n",
              "          -0.0283,  0.0970,  0.0630]], requires_grad=True),\n",
              " Parameter containing:\n",
              " tensor([-0.2052], requires_grad=True)]"
            ]
          },
          "metadata": {
            "tags": []
          },
          "execution_count": 64
        }
      ]
    },
    {
      "cell_type": "code",
      "metadata": {
        "id": "HWLHJiyqfZvN"
      },
      "source": [
        "def evaluate(model, val_loader):\r\n",
        "    outputs = [model.validation_step(batch) for batch in val_loader]\r\n",
        "    return model.validation_epoch_end(outputs)\r\n",
        "\r\n",
        "def fit(epochs, lr, model, train_loader, val_loader, opt_func=torch.optim.SGD):\r\n",
        "    history = []\r\n",
        "    optimizer = opt_func(model.parameters(), lr)\r\n",
        "    for epoch in range(epochs):\r\n",
        "        # Training Phase \r\n",
        "        for batch in train_loader:\r\n",
        "            loss = model.training_step(batch)\r\n",
        "            loss.backward()\r\n",
        "            optimizer.step()\r\n",
        "            optimizer.zero_grad()\r\n",
        "        # Validation phase\r\n",
        "        result = evaluate(model, val_loader)\r\n",
        "        model.epoch_end(epoch, result, epochs)\r\n",
        "        history.append(result)  #appends total validation loss of whole validation set epoch wise\r\n",
        "    return history"
      ],
      "execution_count": 65,
      "outputs": []
    },
    {
      "cell_type": "code",
      "metadata": {
        "id": "SmwSDR_kfd2k"
      },
      "source": [
        "import torchvision\r\n",
        "import torch.nn as nn\r\n",
        "import pandas as pd\r\n",
        "import matplotlib.pyplot as plt\r\n",
        "import torch.nn.functional as F\r\n",
        "from torchvision.datasets.utils import download_url"
      ],
      "execution_count": 66,
      "outputs": []
    },
    {
      "cell_type": "code",
      "metadata": {
        "id": "7QV5jDKgfd97",
        "colab": {
          "base_uri": "https://localhost:8080/"
        },
        "outputId": "d3515b1a-837e-447e-8691-b808477627d3"
      },
      "source": [
        "result = evaluate(model,val_loader) # Use the evaluate function\r\n",
        "print(result)"
      ],
      "execution_count": 67,
      "outputs": [
        {
          "output_type": "stream",
          "text": [
            "{'val_loss': 24.50423240661621}\n"
          ],
          "name": "stdout"
        }
      ]
    },
    {
      "cell_type": "code",
      "metadata": {
        "id": "Z7yV64BBfeA2",
        "colab": {
          "base_uri": "https://localhost:8080/"
        },
        "outputId": "f33acba2-cc9c-49f7-cb97-ba258ff6db59"
      },
      "source": [
        "epochs = 1000\r\n",
        "lr = 1e-2\r\n",
        "history1 = fit(epochs, lr, model, train_loader, val_loader)"
      ],
      "execution_count": 68,
      "outputs": [
        {
          "output_type": "stream",
          "text": [
            "Epoch [20], val_loss: 102.3940\n",
            "Epoch [40], val_loss: 111.7580\n",
            "Epoch [60], val_loss: 124.9683\n",
            "Epoch [80], val_loss: 28.7709\n",
            "Epoch [100], val_loss: 128.0801\n",
            "Epoch [120], val_loss: 78.0920\n",
            "Epoch [140], val_loss: 132.2443\n",
            "Epoch [160], val_loss: 51.7254\n",
            "Epoch [180], val_loss: 156.9668\n",
            "Epoch [200], val_loss: 40.2789\n",
            "Epoch [220], val_loss: 119.1885\n",
            "Epoch [240], val_loss: 80.5525\n",
            "Epoch [260], val_loss: 12.5942\n",
            "Epoch [280], val_loss: 56.0067\n",
            "Epoch [300], val_loss: 127.8657\n",
            "Epoch [320], val_loss: 134.7210\n",
            "Epoch [340], val_loss: 132.3527\n",
            "Epoch [360], val_loss: 171.4418\n",
            "Epoch [380], val_loss: 96.0085\n",
            "Epoch [400], val_loss: 148.5133\n",
            "Epoch [420], val_loss: 82.6548\n",
            "Epoch [440], val_loss: 108.4161\n",
            "Epoch [460], val_loss: 102.1278\n",
            "Epoch [480], val_loss: 46.3966\n",
            "Epoch [500], val_loss: 29.0004\n",
            "Epoch [520], val_loss: 51.9201\n",
            "Epoch [540], val_loss: 80.0498\n",
            "Epoch [560], val_loss: 80.4835\n",
            "Epoch [580], val_loss: 121.3336\n",
            "Epoch [600], val_loss: 106.5976\n",
            "Epoch [620], val_loss: 145.7742\n",
            "Epoch [640], val_loss: 120.7409\n",
            "Epoch [660], val_loss: 131.1751\n",
            "Epoch [680], val_loss: 130.9875\n",
            "Epoch [700], val_loss: 132.0428\n",
            "Epoch [720], val_loss: 83.7483\n",
            "Epoch [740], val_loss: 88.9497\n",
            "Epoch [760], val_loss: 156.8515\n",
            "Epoch [780], val_loss: 168.5146\n",
            "Epoch [800], val_loss: 145.1077\n",
            "Epoch [820], val_loss: 174.4590\n",
            "Epoch [840], val_loss: 143.6747\n",
            "Epoch [860], val_loss: 71.1373\n",
            "Epoch [880], val_loss: 128.0217\n",
            "Epoch [900], val_loss: 72.8083\n",
            "Epoch [920], val_loss: 80.5978\n",
            "Epoch [940], val_loss: 145.2601\n",
            "Epoch [960], val_loss: 7.7955\n",
            "Epoch [980], val_loss: 12.6307\n",
            "Epoch [1000], val_loss: 61.4728\n"
          ],
          "name": "stdout"
        }
      ]
    },
    {
      "cell_type": "code",
      "metadata": {
        "id": "KxgNDAkwftsU",
        "colab": {
          "base_uri": "https://localhost:8080/"
        },
        "outputId": "e8e1d729-8554-470a-8291-c6a0a75bed2c"
      },
      "source": [
        "epochs = 1000\r\n",
        "lr = 1e-3\r\n",
        "history2 = fit(epochs, lr, model, train_loader, val_loader)"
      ],
      "execution_count": 69,
      "outputs": [
        {
          "output_type": "stream",
          "text": [
            "Epoch [20], val_loss: 14.1360\n",
            "Epoch [40], val_loss: 8.3540\n",
            "Epoch [60], val_loss: 13.2206\n",
            "Epoch [80], val_loss: 7.5467\n",
            "Epoch [100], val_loss: 4.5910\n",
            "Epoch [120], val_loss: 8.2946\n",
            "Epoch [140], val_loss: 10.5348\n",
            "Epoch [160], val_loss: 10.5150\n",
            "Epoch [180], val_loss: 3.5227\n",
            "Epoch [200], val_loss: 4.4155\n",
            "Epoch [220], val_loss: 12.4631\n",
            "Epoch [240], val_loss: 2.1352\n",
            "Epoch [260], val_loss: 3.6829\n",
            "Epoch [280], val_loss: 4.5079\n",
            "Epoch [300], val_loss: 12.9502\n",
            "Epoch [320], val_loss: 2.5861\n",
            "Epoch [340], val_loss: 1.3621\n",
            "Epoch [360], val_loss: 6.9408\n",
            "Epoch [380], val_loss: 3.6744\n",
            "Epoch [400], val_loss: 16.6375\n",
            "Epoch [420], val_loss: 9.8731\n",
            "Epoch [440], val_loss: 17.5040\n",
            "Epoch [460], val_loss: 4.9874\n",
            "Epoch [480], val_loss: 5.8862\n",
            "Epoch [500], val_loss: 16.4257\n",
            "Epoch [520], val_loss: 13.5912\n",
            "Epoch [540], val_loss: 10.7277\n",
            "Epoch [560], val_loss: 6.8191\n",
            "Epoch [580], val_loss: 15.4446\n",
            "Epoch [600], val_loss: 7.1794\n",
            "Epoch [620], val_loss: 9.9686\n",
            "Epoch [640], val_loss: 2.7427\n",
            "Epoch [660], val_loss: 4.5980\n",
            "Epoch [680], val_loss: 8.1633\n",
            "Epoch [700], val_loss: 5.4801\n",
            "Epoch [720], val_loss: 12.8065\n",
            "Epoch [740], val_loss: 12.9860\n",
            "Epoch [760], val_loss: 4.0546\n",
            "Epoch [780], val_loss: 10.6352\n",
            "Epoch [800], val_loss: 3.7797\n",
            "Epoch [820], val_loss: 18.2012\n",
            "Epoch [840], val_loss: 11.6773\n",
            "Epoch [860], val_loss: 13.9027\n",
            "Epoch [880], val_loss: 10.6721\n",
            "Epoch [900], val_loss: 8.6168\n",
            "Epoch [920], val_loss: 16.1095\n",
            "Epoch [940], val_loss: 10.0400\n",
            "Epoch [960], val_loss: 5.9409\n",
            "Epoch [980], val_loss: 13.4795\n",
            "Epoch [1000], val_loss: 15.2678\n"
          ],
          "name": "stdout"
        }
      ]
    },
    {
      "cell_type": "code",
      "metadata": {
        "id": "VOX4i7jTfyA0",
        "colab": {
          "base_uri": "https://localhost:8080/"
        },
        "outputId": "497cadc9-b1a3-4e13-dca9-ea93e60cbbd3"
      },
      "source": [
        "epochs = 1000\r\n",
        "lr = 1e-4\r\n",
        "history3 = fit(epochs, lr, model, train_loader, val_loader)"
      ],
      "execution_count": 70,
      "outputs": [
        {
          "output_type": "stream",
          "text": [
            "Epoch [20], val_loss: 0.7509\n",
            "Epoch [40], val_loss: 0.8987\n",
            "Epoch [60], val_loss: 0.8018\n",
            "Epoch [80], val_loss: 0.6655\n",
            "Epoch [100], val_loss: 1.0972\n",
            "Epoch [120], val_loss: 1.1728\n",
            "Epoch [140], val_loss: 1.1127\n",
            "Epoch [160], val_loss: 1.2823\n",
            "Epoch [180], val_loss: 1.0677\n",
            "Epoch [200], val_loss: 1.0201\n",
            "Epoch [220], val_loss: 0.7690\n",
            "Epoch [240], val_loss: 0.9119\n",
            "Epoch [260], val_loss: 1.0284\n",
            "Epoch [280], val_loss: 1.0374\n",
            "Epoch [300], val_loss: 0.9536\n",
            "Epoch [320], val_loss: 1.2424\n",
            "Epoch [340], val_loss: 0.9134\n",
            "Epoch [360], val_loss: 0.7324\n",
            "Epoch [380], val_loss: 0.6037\n",
            "Epoch [400], val_loss: 1.1273\n",
            "Epoch [420], val_loss: 0.7585\n",
            "Epoch [440], val_loss: 1.0058\n",
            "Epoch [460], val_loss: 0.9636\n",
            "Epoch [480], val_loss: 0.6743\n",
            "Epoch [500], val_loss: 1.0059\n",
            "Epoch [520], val_loss: 1.2532\n",
            "Epoch [540], val_loss: 1.0544\n",
            "Epoch [560], val_loss: 0.8460\n",
            "Epoch [580], val_loss: 0.9633\n",
            "Epoch [600], val_loss: 1.1603\n",
            "Epoch [620], val_loss: 0.9710\n",
            "Epoch [640], val_loss: 0.8376\n",
            "Epoch [660], val_loss: 1.0674\n",
            "Epoch [680], val_loss: 1.2738\n",
            "Epoch [700], val_loss: 0.8571\n",
            "Epoch [720], val_loss: 0.9573\n",
            "Epoch [740], val_loss: 1.0150\n",
            "Epoch [760], val_loss: 0.8536\n",
            "Epoch [780], val_loss: 1.1216\n",
            "Epoch [800], val_loss: 1.1016\n",
            "Epoch [820], val_loss: 0.6925\n",
            "Epoch [840], val_loss: 0.7689\n",
            "Epoch [860], val_loss: 0.7068\n",
            "Epoch [880], val_loss: 0.8301\n",
            "Epoch [900], val_loss: 0.8762\n",
            "Epoch [920], val_loss: 0.9031\n",
            "Epoch [940], val_loss: 0.6263\n",
            "Epoch [960], val_loss: 0.8295\n",
            "Epoch [980], val_loss: 0.7986\n",
            "Epoch [1000], val_loss: 0.4752\n"
          ],
          "name": "stdout"
        }
      ]
    },
    {
      "cell_type": "code",
      "metadata": {
        "id": "uzElAGdbf1Al",
        "colab": {
          "base_uri": "https://localhost:8080/"
        },
        "outputId": "c14b0445-ff33-4933-e6b2-e320a5f6cf3d"
      },
      "source": [
        "epochs = 1000\r\n",
        "lr = 1e-6\r\n",
        "history3 = fit(epochs, lr, model, train_loader, val_loader)"
      ],
      "execution_count": 71,
      "outputs": [
        {
          "output_type": "stream",
          "text": [
            "Epoch [20], val_loss: 0.4017\n",
            "Epoch [40], val_loss: 0.3991\n",
            "Epoch [60], val_loss: 0.3971\n",
            "Epoch [80], val_loss: 0.3956\n",
            "Epoch [100], val_loss: 0.3947\n",
            "Epoch [120], val_loss: 0.3953\n",
            "Epoch [140], val_loss: 0.3921\n",
            "Epoch [160], val_loss: 0.3926\n",
            "Epoch [180], val_loss: 0.3935\n",
            "Epoch [200], val_loss: 0.3917\n",
            "Epoch [220], val_loss: 0.3917\n",
            "Epoch [240], val_loss: 0.3910\n",
            "Epoch [260], val_loss: 0.3888\n",
            "Epoch [280], val_loss: 0.3903\n",
            "Epoch [300], val_loss: 0.3899\n",
            "Epoch [320], val_loss: 0.3901\n",
            "Epoch [340], val_loss: 0.3882\n",
            "Epoch [360], val_loss: 0.3896\n",
            "Epoch [380], val_loss: 0.3866\n",
            "Epoch [400], val_loss: 0.3895\n",
            "Epoch [420], val_loss: 0.3878\n",
            "Epoch [440], val_loss: 0.3873\n",
            "Epoch [460], val_loss: 0.3878\n",
            "Epoch [480], val_loss: 0.3894\n",
            "Epoch [500], val_loss: 0.3874\n",
            "Epoch [520], val_loss: 0.3885\n",
            "Epoch [540], val_loss: 0.3881\n",
            "Epoch [560], val_loss: 0.3887\n",
            "Epoch [580], val_loss: 0.3879\n",
            "Epoch [600], val_loss: 0.3870\n",
            "Epoch [620], val_loss: 0.3862\n",
            "Epoch [640], val_loss: 0.3843\n",
            "Epoch [660], val_loss: 0.3856\n",
            "Epoch [680], val_loss: 0.3878\n",
            "Epoch [700], val_loss: 0.3874\n",
            "Epoch [720], val_loss: 0.3864\n",
            "Epoch [740], val_loss: 0.3873\n",
            "Epoch [760], val_loss: 0.3855\n",
            "Epoch [780], val_loss: 0.3862\n",
            "Epoch [800], val_loss: 0.3882\n",
            "Epoch [820], val_loss: 0.3862\n",
            "Epoch [840], val_loss: 0.3851\n",
            "Epoch [860], val_loss: 0.3857\n",
            "Epoch [880], val_loss: 0.3858\n",
            "Epoch [900], val_loss: 0.3845\n",
            "Epoch [920], val_loss: 0.3840\n",
            "Epoch [940], val_loss: 0.3841\n",
            "Epoch [960], val_loss: 0.3859\n",
            "Epoch [980], val_loss: 0.3847\n",
            "Epoch [1000], val_loss: 0.3866\n"
          ],
          "name": "stdout"
        }
      ]
    },
    {
      "cell_type": "code",
      "metadata": {
        "id": "qq8aD1dif3Ec",
        "colab": {
          "base_uri": "https://localhost:8080/"
        },
        "outputId": "72453c9c-b520-4cf3-d8f3-e8fd7cb0a33e"
      },
      "source": [
        "val_loss = evaluate(model,val_loader)\r\n",
        "val_loss"
      ],
      "execution_count": 72,
      "outputs": [
        {
          "output_type": "execute_result",
          "data": {
            "text/plain": [
              "{'val_loss': 0.3866051137447357}"
            ]
          },
          "metadata": {
            "tags": []
          },
          "execution_count": 72
        }
      ]
    },
    {
      "cell_type": "code",
      "metadata": {
        "id": "jxnbbpJ_f5e1"
      },
      "source": [
        "def predict_single(input, target, model):\r\n",
        "    inputs = input.unsqueeze(0) \r\n",
        "    predictions = model(inputs)\r\n",
        "    prediction = predictions[0].detach()\r\n",
        "    print(\"Input:\", input)\r\n",
        "    print(\"Target:\", target)\r\n",
        "    print(\"Prediction:\", prediction)"
      ],
      "execution_count": 73,
      "outputs": []
    },
    {
      "cell_type": "code",
      "metadata": {
        "id": "lwuPhstAf7h_",
        "colab": {
          "base_uri": "https://localhost:8080/"
        },
        "outputId": "d4adb297-a051-411a-f500-0b12e011d770"
      },
      "source": [
        "input, target = val_df[0]\r\n",
        "predict_single(input, target, model)"
      ],
      "execution_count": 74,
      "outputs": [
        {
          "output_type": "stream",
          "text": [
            "Input: tensor([  6.6000,   0.4100,   0.2700,  10.7000,   0.1100,  20.0000, 103.0000,\n",
            "          0.9967,   3.0800,   0.4100,   9.0000])\n",
            "Target: tensor([1.])\n",
            "Prediction: tensor([0.5558])\n"
          ],
          "name": "stdout"
        }
      ]
    },
    {
      "cell_type": "code",
      "metadata": {
        "id": "9Qgu6QUhf9wY",
        "colab": {
          "base_uri": "https://localhost:8080/"
        },
        "outputId": "7e6df66c-8b7f-4aa2-a841-b6d933a8d6b5"
      },
      "source": [
        "input, target = val_df[10]\r\n",
        "predict_single(input, target, model)"
      ],
      "execution_count": 75,
      "outputs": [
        {
          "output_type": "stream",
          "text": [
            "Input: tensor([6.4000e+00, 2.2000e-01, 3.8000e-01, 9.1000e+00, 4.4000e-02, 3.5000e+01,\n",
            "        1.2700e+02, 9.9326e-01, 2.9700e+00, 3.0000e-01, 1.1000e+01])\n",
            "Target: tensor([1.])\n",
            "Prediction: tensor([0.9541])\n"
          ],
          "name": "stdout"
        }
      ]
    },
    {
      "cell_type": "code",
      "metadata": {
        "id": "sI8YDl9kf_OH",
        "colab": {
          "base_uri": "https://localhost:8080/"
        },
        "outputId": "74a1c5ae-8c64-484f-b0b6-e7234c738b10"
      },
      "source": [
        "input, target = val_df[5]\r\n",
        "predict_single(input, target, model)"
      ],
      "execution_count": 76,
      "outputs": [
        {
          "output_type": "stream",
          "text": [
            "Input: tensor([6.0000e+00, 1.8000e-01, 2.7000e-01, 1.5000e+00, 8.9000e-02, 4.0000e+01,\n",
            "        1.4300e+02, 9.9230e-01, 3.4900e+00, 6.2000e-01, 1.0800e+01])\n",
            "Target: tensor([1.])\n",
            "Prediction: tensor([0.8153])\n"
          ],
          "name": "stdout"
        }
      ]
    },
    {
      "cell_type": "code",
      "metadata": {
        "id": "VRd9OEAULNw0",
        "colab": {
          "base_uri": "https://localhost:8080/",
          "height": 287
        },
        "outputId": "7eb48f16-3f8e-4dca-815e-4c3d024254f6"
      },
      "source": [
        "#Accuracy \r\n",
        "Accuracy = [ ]\r\n",
        "\r\n",
        "classifiers=[KNeighborsClassifier(),RandomForestClassifier(random_state=41),\r\n",
        "             DecisionTreeClassifier(random_state=42),SGDClassifier(),AdaBoostClassifier(random_state=1),\r\n",
        "             GradientBoostingClassifier(random_state=1),xgb.XGBClassifier(random_state=1), MLPClassifier(random_state =1)]\r\n",
        "classifiers_names=['KNearestNeighbors','RandomForestClassifier','DecisionTree', 'Stochastic Gradient', 'Adaboost Classifier',\r\n",
        "                   'Gradient Boosting', 'XGBoost', 'Neural Network']\r\n",
        "\r\n",
        "result={}\r\n",
        "\r\n",
        "for classifier  in range(len(classifiers)):\r\n",
        "    c=classifiers[classifier]\r\n",
        "    c.fit(x_train,y_train)\r\n",
        "    y_predict=c.predict(x_test)\r\n",
        "    Accuracy.append(accuracy_score(y_predict,y_test))\r\n",
        "     \r\n",
        "result={'Classifiers Algorithm':classifiers_names,'Accuracy':Accuracy}\r\n",
        "\r\n",
        "Accuracy_frame=pd.DataFrame(result)\r\n",
        "Accuracy_frame"
      ],
      "execution_count": 77,
      "outputs": [
        {
          "output_type": "execute_result",
          "data": {
            "text/html": [
              "<div>\n",
              "<style scoped>\n",
              "    .dataframe tbody tr th:only-of-type {\n",
              "        vertical-align: middle;\n",
              "    }\n",
              "\n",
              "    .dataframe tbody tr th {\n",
              "        vertical-align: top;\n",
              "    }\n",
              "\n",
              "    .dataframe thead th {\n",
              "        text-align: right;\n",
              "    }\n",
              "</style>\n",
              "<table border=\"1\" class=\"dataframe\">\n",
              "  <thead>\n",
              "    <tr style=\"text-align: right;\">\n",
              "      <th></th>\n",
              "      <th>Classifiers Algorithm</th>\n",
              "      <th>Accuracy</th>\n",
              "    </tr>\n",
              "  </thead>\n",
              "  <tbody>\n",
              "    <tr>\n",
              "      <th>0</th>\n",
              "      <td>KNearestNeighbors</td>\n",
              "      <td>0.719388</td>\n",
              "    </tr>\n",
              "    <tr>\n",
              "      <th>1</th>\n",
              "      <td>RandomForestClassifier</td>\n",
              "      <td>0.822449</td>\n",
              "    </tr>\n",
              "    <tr>\n",
              "      <th>2</th>\n",
              "      <td>DecisionTree</td>\n",
              "      <td>0.743878</td>\n",
              "    </tr>\n",
              "    <tr>\n",
              "      <th>3</th>\n",
              "      <td>Stochastic Gradient</td>\n",
              "      <td>0.684694</td>\n",
              "    </tr>\n",
              "    <tr>\n",
              "      <th>4</th>\n",
              "      <td>Adaboost Classifier</td>\n",
              "      <td>0.705102</td>\n",
              "    </tr>\n",
              "    <tr>\n",
              "      <th>5</th>\n",
              "      <td>Gradient Boosting</td>\n",
              "      <td>0.753061</td>\n",
              "    </tr>\n",
              "    <tr>\n",
              "      <th>6</th>\n",
              "      <td>XGBoost</td>\n",
              "      <td>0.725510</td>\n",
              "    </tr>\n",
              "    <tr>\n",
              "      <th>7</th>\n",
              "      <td>Neural Network</td>\n",
              "      <td>0.753061</td>\n",
              "    </tr>\n",
              "  </tbody>\n",
              "</table>\n",
              "</div>"
            ],
            "text/plain": [
              "    Classifiers Algorithm  Accuracy\n",
              "0       KNearestNeighbors  0.719388\n",
              "1  RandomForestClassifier  0.822449\n",
              "2            DecisionTree  0.743878\n",
              "3     Stochastic Gradient  0.684694\n",
              "4     Adaboost Classifier  0.705102\n",
              "5       Gradient Boosting  0.753061\n",
              "6                 XGBoost  0.725510\n",
              "7          Neural Network  0.753061"
            ]
          },
          "metadata": {
            "tags": []
          },
          "execution_count": 77
        }
      ]
    },
    {
      "cell_type": "markdown",
      "metadata": {
        "id": "2VxR38eZZ-wH"
      },
      "source": [
        "## **Showing the graph of the accuracy of different classifier**"
      ]
    },
    {
      "cell_type": "code",
      "metadata": {
        "id": "_zC-FMQIM0Te",
        "colab": {
          "base_uri": "https://localhost:8080/",
          "height": 296
        },
        "outputId": "be0e9671-7b4a-4d89-a596-8c412418af25"
      },
      "source": [
        "#we can see that RandomForestClassifier has the highest accuracy of 82$\r\n",
        "sns.barplot(y='Classifiers Algorithm',x='Accuracy',data=Accuracy_frame)"
      ],
      "execution_count": 78,
      "outputs": [
        {
          "output_type": "execute_result",
          "data": {
            "text/plain": [
              "<AxesSubplot:xlabel='Accuracy', ylabel='Classifiers Algorithm'>"
            ]
          },
          "metadata": {
            "tags": []
          },
          "execution_count": 78
        },
        {
          "output_type": "display_data",
          "data": {
            "image/png": "[encoded data removed]",
            "text/plain": [
              "<Figure size 432x288 with 1 Axes>"
            ]
          },
          "metadata": {
            "tags": [],
            "needs_background": "light"
          }
        }
      ]
    },
    {
      "cell_type": "markdown",
      "metadata": {
        "id": "rFpmSnowfK6g"
      },
      "source": [
        "## **Using RandomizedSearchCV to improve the results**"
      ]
    },
    {
      "cell_type": "code",
      "metadata": {
        "id": "o76D0OkBJ8Hx",
        "colab": {
          "base_uri": "https://localhost:8080/"
        },
        "outputId": "ea1aeea3-7c83-4b3f-9a8a-44624648434d"
      },
      "source": [
        "# number of trees in random forest\r\n",
        "n_estimators = [int(x) for x in np.linspace(start=50, stop=1000, num=10)]\r\n",
        "# number of features to consider at every split\r\n",
        "max_features = ['auto', 'sqrt']\r\n",
        "# max number of levels in tree\r\n",
        "max_depth = [int(x) for x in np.linspace(10, 110, num=10)] + [None]\r\n",
        "# min number of samples required to split a node\r\n",
        "min_samples_split = [2, 5, 10]\r\n",
        "# min number of samples required at each leaf node\r\n",
        "min_samples_leaf = [1, 2, 4]\r\n",
        "# method of selecting samples for training each tree\r\n",
        "bootstrap = [True, False]\r\n",
        "\r\n",
        "# random grid\r\n",
        "random_grid = {'n_estimators': n_estimators,\r\n",
        "              'max_features': max_features,\r\n",
        "              'max_depth': max_depth,\r\n",
        "              'min_samples_split': min_samples_split,\r\n",
        "              'min_samples_leaf': min_samples_leaf,\r\n",
        "              'bootstrap': bootstrap}\r\n",
        "\r\n",
        "rf_optimized = RandomizedSearchCV(estimator=rf, param_distributions=random_grid, n_iter=100, cv=3, verbose=2, random_state=42)\r\n",
        "\r\n",
        "\r\n",
        "\r\n",
        "rf_optimized.fit(x_train, y_train)\r\n",
        "pred_optimized = rf_optimized.predict(x_test)\r\n",
        "print(classification_report(y_test, pred_optimized))"
      ],
      "execution_count": null,
      "outputs": [
        {
          "output_type": "stream",
          "text": [
            "Fitting 3 folds for each of 100 candidates, totalling 300 fits\n",
            "[CV] n_estimators=1000, min_samples_split=10, min_samples_leaf=2, max_features=sqrt, max_depth=10, bootstrap=True \n"
          ],
          "name": "stdout"
        },
        {
          "output_type": "stream",
          "text": [
            "[Parallel(n_jobs=1)]: Using backend SequentialBackend with 1 concurrent workers.\n"
          ],
          "name": "stderr"
        },
        {
          "output_type": "stream",
          "text": [
            "[CV]  n_estimators=1000, min_samples_split=10, min_samples_leaf=2, max_features=sqrt, max_depth=10, bootstrap=True, total=   4.6s\n",
            "[CV] n_estimators=1000, min_samples_split=10, min_samples_leaf=2, max_features=sqrt, max_depth=10, bootstrap=True \n"
          ],
          "name": "stdout"
        },
        {
          "output_type": "stream",
          "text": [
            "[Parallel(n_jobs=1)]: Done   1 out of   1 | elapsed:    4.6s remaining:    0.0s\n"
          ],
          "name": "stderr"
        },
        {
          "output_type": "stream",
          "text": [
            "[CV]  n_estimators=1000, min_samples_split=10, min_samples_leaf=2, max_features=sqrt, max_depth=10, bootstrap=True, total=   4.5s\n",
            "[CV] n_estimators=1000, min_samples_split=10, min_samples_leaf=2, max_features=sqrt, max_depth=10, bootstrap=True \n",
            "[CV]  n_estimators=1000, min_samples_split=10, min_samples_leaf=2, max_features=sqrt, max_depth=10, bootstrap=True, total=   4.5s\n",
            "[CV] n_estimators=577, min_samples_split=2, min_samples_leaf=2, max_features=sqrt, max_depth=65, bootstrap=True \n",
            "[CV]  n_estimators=577, min_samples_split=2, min_samples_leaf=2, max_features=sqrt, max_depth=65, bootstrap=True, total=   3.1s\n",
            "[CV] n_estimators=577, min_samples_split=2, min_samples_leaf=2, max_features=sqrt, max_depth=65, bootstrap=True \n",
            "[CV]  n_estimators=577, min_samples_split=2, min_samples_leaf=2, max_features=sqrt, max_depth=65, bootstrap=True, total=   3.1s\n",
            "[CV] n_estimators=577, min_samples_split=2, min_samples_leaf=2, max_features=sqrt, max_depth=65, bootstrap=True \n",
            "[CV]  n_estimators=577, min_samples_split=2, min_samples_leaf=2, max_features=sqrt, max_depth=65, bootstrap=True, total=   3.1s\n",
            "[CV] n_estimators=683, min_samples_split=5, min_samples_leaf=2, max_features=auto, max_depth=None, bootstrap=True \n",
            "[CV]  n_estimators=683, min_samples_split=5, min_samples_leaf=2, max_features=auto, max_depth=None, bootstrap=True, total=   3.7s\n",
            "[CV] n_estimators=683, min_samples_split=5, min_samples_leaf=2, max_features=auto, max_depth=None, bootstrap=True \n",
            "[CV]  n_estimators=683, min_samples_split=5, min_samples_leaf=2, max_features=auto, max_depth=None, bootstrap=True, total=   3.7s\n",
            "[CV] n_estimators=683, min_samples_split=5, min_samples_leaf=2, max_features=auto, max_depth=None, bootstrap=True \n",
            "[CV]  n_estimators=683, min_samples_split=5, min_samples_leaf=2, max_features=auto, max_depth=None, bootstrap=True, total=   3.8s\n",
            "[CV] n_estimators=50, min_samples_split=2, min_samples_leaf=1, max_features=auto, max_depth=54, bootstrap=True \n",
            "[CV]  n_estimators=50, min_samples_split=2, min_samples_leaf=1, max_features=auto, max_depth=54, bootstrap=True, total=   0.3s\n",
            "[CV] n_estimators=50, min_samples_split=2, min_samples_leaf=1, max_features=auto, max_depth=54, bootstrap=True \n",
            "[CV]  n_estimators=50, min_samples_split=2, min_samples_leaf=1, max_features=auto, max_depth=54, bootstrap=True, total=   0.3s\n",
            "[CV] n_estimators=50, min_samples_split=2, min_samples_leaf=1, max_features=auto, max_depth=54, bootstrap=True \n",
            "[CV]  n_estimators=50, min_samples_split=2, min_samples_leaf=1, max_features=auto, max_depth=54, bootstrap=True, total=   0.3s\n",
            "[CV] n_estimators=577, min_samples_split=10, min_samples_leaf=2, max_features=sqrt, max_depth=21, bootstrap=True \n",
            "[CV]  n_estimators=577, min_samples_split=10, min_samples_leaf=2, max_features=sqrt, max_depth=21, bootstrap=True, total=   3.0s\n",
            "[CV] n_estimators=577, min_samples_split=10, min_samples_leaf=2, max_features=sqrt, max_depth=21, bootstrap=True \n",
            "[CV]  n_estimators=577, min_samples_split=10, min_samples_leaf=2, max_features=sqrt, max_depth=21, bootstrap=True, total=   3.0s\n",
            "[CV] n_estimators=577, min_samples_split=10, min_samples_leaf=2, max_features=sqrt, max_depth=21, bootstrap=True \n",
            "[CV]  n_estimators=577, min_samples_split=10, min_samples_leaf=2, max_features=sqrt, max_depth=21, bootstrap=True, total=   3.0s\n",
            "[CV] n_estimators=788, min_samples_split=5, min_samples_leaf=2, max_features=sqrt, max_depth=54, bootstrap=True \n",
            "[CV]  n_estimators=788, min_samples_split=5, min_samples_leaf=2, max_features=sqrt, max_depth=54, bootstrap=True, total=   4.2s\n",
            "[CV] n_estimators=788, min_samples_split=5, min_samples_leaf=2, max_features=sqrt, max_depth=54, bootstrap=True \n",
            "[CV]  n_estimators=788, min_samples_split=5, min_samples_leaf=2, max_features=sqrt, max_depth=54, bootstrap=True, total=   4.2s\n",
            "[CV] n_estimators=788, min_samples_split=5, min_samples_leaf=2, max_features=sqrt, max_depth=54, bootstrap=True \n"
          ],
          "name": "stdout"
        },
        {
          "output_type": "stream",
          "text": [
            "t=2021-01-16T20:15:06+0000 lvl=warn msg=\"failed to open private leg\" id=591c6315ae79 privaddr=localhost:80 err=\"dial tcp 127.0.0.1:80: connect: connection refused\"\n",
            "t=2021-01-16T20:15:06+0000 lvl=warn msg=\"failed to open private leg\" id=368d245bbe75 privaddr=localhost:80 err=\"dial tcp 127.0.0.1:80: connect: connection refused\"\n"
          ],
          "name": "stderr"
        },
        {
          "output_type": "stream",
          "text": [
            "[CV]  n_estimators=788, min_samples_split=5, min_samples_leaf=2, max_features=sqrt, max_depth=54, bootstrap=True, total=   4.2s\n",
            "[CV] n_estimators=366, min_samples_split=2, min_samples_leaf=1, max_features=sqrt, max_depth=76, bootstrap=False \n",
            "[CV]  n_estimators=366, min_samples_split=2, min_samples_leaf=1, max_features=sqrt, max_depth=76, bootstrap=False, total=   2.8s\n",
            "[CV] n_estimators=366, min_samples_split=2, min_samples_leaf=1, max_features=sqrt, max_depth=76, bootstrap=False \n",
            "[CV]  n_estimators=366, min_samples_split=2, min_samples_leaf=1, max_features=sqrt, max_depth=76, bootstrap=False, total=   2.8s\n",
            "[CV] n_estimators=366, min_samples_split=2, min_samples_leaf=1, max_features=sqrt, max_depth=76, bootstrap=False \n",
            "[CV]  n_estimators=366, min_samples_split=2, min_samples_leaf=1, max_features=sqrt, max_depth=76, bootstrap=False, total=   2.8s\n",
            "[CV] n_estimators=894, min_samples_split=5, min_samples_leaf=2, max_features=auto, max_depth=32, bootstrap=True \n",
            "[CV]  n_estimators=894, min_samples_split=5, min_samples_leaf=2, max_features=auto, max_depth=32, bootstrap=True, total=   4.8s\n",
            "[CV] n_estimators=894, min_samples_split=5, min_samples_leaf=2, max_features=auto, max_depth=32, bootstrap=True \n",
            "[CV]  n_estimators=894, min_samples_split=5, min_samples_leaf=2, max_features=auto, max_depth=32, bootstrap=True, total=   4.7s\n",
            "[CV] n_estimators=894, min_samples_split=5, min_samples_leaf=2, max_features=auto, max_depth=32, bootstrap=True \n",
            "[CV]  n_estimators=894, min_samples_split=5, min_samples_leaf=2, max_features=auto, max_depth=32, bootstrap=True, total=   4.9s\n",
            "[CV] n_estimators=261, min_samples_split=2, min_samples_leaf=2, max_features=sqrt, max_depth=54, bootstrap=False \n",
            "[CV]  n_estimators=261, min_samples_split=2, min_samples_leaf=2, max_features=sqrt, max_depth=54, bootstrap=False, total=   1.9s\n",
            "[CV] n_estimators=261, min_samples_split=2, min_samples_leaf=2, max_features=sqrt, max_depth=54, bootstrap=False \n",
            "[CV]  n_estimators=261, min_samples_split=2, min_samples_leaf=2, max_features=sqrt, max_depth=54, bootstrap=False, total=   1.9s\n",
            "[CV] n_estimators=261, min_samples_split=2, min_samples_leaf=2, max_features=sqrt, max_depth=54, bootstrap=False \n",
            "[CV]  n_estimators=261, min_samples_split=2, min_samples_leaf=2, max_features=sqrt, max_depth=54, bootstrap=False, total=   1.9s\n",
            "[CV] n_estimators=472, min_samples_split=5, min_samples_leaf=4, max_features=sqrt, max_depth=98, bootstrap=False \n",
            "[CV]  n_estimators=472, min_samples_split=5, min_samples_leaf=4, max_features=sqrt, max_depth=98, bootstrap=False, total=   3.2s\n",
            "[CV] n_estimators=472, min_samples_split=5, min_samples_leaf=4, max_features=sqrt, max_depth=98, bootstrap=False \n",
            "[CV]  n_estimators=472, min_samples_split=5, min_samples_leaf=4, max_features=sqrt, max_depth=98, bootstrap=False, total=   3.2s\n",
            "[CV] n_estimators=472, min_samples_split=5, min_samples_leaf=4, max_features=sqrt, max_depth=98, bootstrap=False \n",
            "[CV]  n_estimators=472, min_samples_split=5, min_samples_leaf=4, max_features=sqrt, max_depth=98, bootstrap=False, total=   3.1s\n",
            "[CV] n_estimators=894, min_samples_split=10, min_samples_leaf=1, max_features=auto, max_depth=87, bootstrap=False \n",
            "[CV]  n_estimators=894, min_samples_split=10, min_samples_leaf=1, max_features=auto, max_depth=87, bootstrap=False, total=   6.6s\n",
            "[CV] n_estimators=894, min_samples_split=10, min_samples_leaf=1, max_features=auto, max_depth=87, bootstrap=False \n",
            "[CV]  n_estimators=894, min_samples_split=10, min_samples_leaf=1, max_features=auto, max_depth=87, bootstrap=False, total=   6.4s\n",
            "[CV] n_estimators=894, min_samples_split=10, min_samples_leaf=1, max_features=auto, max_depth=87, bootstrap=False \n",
            "[CV]  n_estimators=894, min_samples_split=10, min_samples_leaf=1, max_features=auto, max_depth=87, bootstrap=False, total=   6.5s\n",
            "[CV] n_estimators=1000, min_samples_split=2, min_samples_leaf=4, max_features=auto, max_depth=98, bootstrap=False \n",
            "[CV]  n_estimators=1000, min_samples_split=2, min_samples_leaf=4, max_features=auto, max_depth=98, bootstrap=False, total=   6.7s\n",
            "[CV] n_estimators=1000, min_samples_split=2, min_samples_leaf=4, max_features=auto, max_depth=98, bootstrap=False \n",
            "[CV]  n_estimators=1000, min_samples_split=2, min_samples_leaf=4, max_features=auto, max_depth=98, bootstrap=False, total=   6.6s\n",
            "[CV] n_estimators=1000, min_samples_split=2, min_samples_leaf=4, max_features=auto, max_depth=98, bootstrap=False \n",
            "[CV]  n_estimators=1000, min_samples_split=2, min_samples_leaf=4, max_features=auto, max_depth=98, bootstrap=False, total=   6.6s\n",
            "[CV] n_estimators=1000, min_samples_split=10, min_samples_leaf=2, max_features=auto, max_depth=98, bootstrap=False \n",
            "[CV]  n_estimators=1000, min_samples_split=10, min_samples_leaf=2, max_features=auto, max_depth=98, bootstrap=False, total=   6.9s\n",
            "[CV] n_estimators=1000, min_samples_split=10, min_samples_leaf=2, max_features=auto, max_depth=98, bootstrap=False \n",
            "[CV]  n_estimators=1000, min_samples_split=10, min_samples_leaf=2, max_features=auto, max_depth=98, bootstrap=False, total=   6.9s\n",
            "[CV] n_estimators=1000, min_samples_split=10, min_samples_leaf=2, max_features=auto, max_depth=98, bootstrap=False \n",
            "[CV]  n_estimators=1000, min_samples_split=10, min_samples_leaf=2, max_features=auto, max_depth=98, bootstrap=False, total=   6.9s\n",
            "[CV] n_estimators=472, min_samples_split=10, min_samples_leaf=4, max_features=sqrt, max_depth=21, bootstrap=True \n",
            "[CV]  n_estimators=472, min_samples_split=10, min_samples_leaf=4, max_features=sqrt, max_depth=21, bootstrap=True, total=   2.3s\n",
            "[CV] n_estimators=472, min_samples_split=10, min_samples_leaf=4, max_features=sqrt, max_depth=21, bootstrap=True \n",
            "[CV]  n_estimators=472, min_samples_split=10, min_samples_leaf=4, max_features=sqrt, max_depth=21, bootstrap=True, total=   2.3s\n",
            "[CV] n_estimators=472, min_samples_split=10, min_samples_leaf=4, max_features=sqrt, max_depth=21, bootstrap=True \n",
            "[CV]  n_estimators=472, min_samples_split=10, min_samples_leaf=4, max_features=sqrt, max_depth=21, bootstrap=True, total=   2.3s\n",
            "[CV] n_estimators=155, min_samples_split=2, min_samples_leaf=1, max_features=sqrt, max_depth=98, bootstrap=False \n",
            "[CV]  n_estimators=155, min_samples_split=2, min_samples_leaf=1, max_features=sqrt, max_depth=98, bootstrap=False, total=   1.2s\n",
            "[CV] n_estimators=155, min_samples_split=2, min_samples_leaf=1, max_features=sqrt, max_depth=98, bootstrap=False \n",
            "[CV]  n_estimators=155, min_samples_split=2, min_samples_leaf=1, max_features=sqrt, max_depth=98, bootstrap=False, total=   1.2s\n",
            "[CV] n_estimators=155, min_samples_split=2, min_samples_leaf=1, max_features=sqrt, max_depth=98, bootstrap=False \n",
            "[CV]  n_estimators=155, min_samples_split=2, min_samples_leaf=1, max_features=sqrt, max_depth=98, bootstrap=False, total=   1.2s\n",
            "[CV] n_estimators=1000, min_samples_split=10, min_samples_leaf=4, max_features=sqrt, max_depth=10, bootstrap=False \n",
            "[CV]  n_estimators=1000, min_samples_split=10, min_samples_leaf=4, max_features=sqrt, max_depth=10, bootstrap=False, total=   5.5s\n",
            "[CV] n_estimators=1000, min_samples_split=10, min_samples_leaf=4, max_features=sqrt, max_depth=10, bootstrap=False \n",
            "[CV]  n_estimators=1000, min_samples_split=10, min_samples_leaf=4, max_features=sqrt, max_depth=10, bootstrap=False, total=   5.5s\n",
            "[CV] n_estimators=1000, min_samples_split=10, min_samples_leaf=4, max_features=sqrt, max_depth=10, bootstrap=False \n",
            "[CV]  n_estimators=1000, min_samples_split=10, min_samples_leaf=4, max_features=sqrt, max_depth=10, bootstrap=False, total=   5.4s\n",
            "[CV] n_estimators=50, min_samples_split=5, min_samples_leaf=2, max_features=sqrt, max_depth=43, bootstrap=False \n",
            "[CV]  n_estimators=50, min_samples_split=5, min_samples_leaf=2, max_features=sqrt, max_depth=43, bootstrap=False, total=   0.4s\n",
            "[CV] n_estimators=50, min_samples_split=5, min_samples_leaf=2, max_features=sqrt, max_depth=43, bootstrap=False \n",
            "[CV]  n_estimators=50, min_samples_split=5, min_samples_leaf=2, max_features=sqrt, max_depth=43, bootstrap=False, total=   0.4s\n",
            "[CV] n_estimators=50, min_samples_split=5, min_samples_leaf=2, max_features=sqrt, max_depth=43, bootstrap=False \n",
            "[CV]  n_estimators=50, min_samples_split=5, min_samples_leaf=2, max_features=sqrt, max_depth=43, bootstrap=False, total=   0.4s\n",
            "[CV] n_estimators=577, min_samples_split=2, min_samples_leaf=2, max_features=auto, max_depth=76, bootstrap=False \n",
            "[CV]  n_estimators=577, min_samples_split=2, min_samples_leaf=2, max_features=auto, max_depth=76, bootstrap=False, total=   4.3s\n",
            "[CV] n_estimators=577, min_samples_split=2, min_samples_leaf=2, max_features=auto, max_depth=76, bootstrap=False \n",
            "[CV]  n_estimators=577, min_samples_split=2, min_samples_leaf=2, max_features=auto, max_depth=76, bootstrap=False, total=   4.2s\n",
            "[CV] n_estimators=577, min_samples_split=2, min_samples_leaf=2, max_features=auto, max_depth=76, bootstrap=False \n",
            "[CV]  n_estimators=577, min_samples_split=2, min_samples_leaf=2, max_features=auto, max_depth=76, bootstrap=False, total=   4.2s\n",
            "[CV] n_estimators=683, min_samples_split=5, min_samples_leaf=4, max_features=sqrt, max_depth=32, bootstrap=False \n",
            "[CV]  n_estimators=683, min_samples_split=5, min_samples_leaf=4, max_features=sqrt, max_depth=32, bootstrap=False, total=   4.6s\n",
            "[CV] n_estimators=683, min_samples_split=5, min_samples_leaf=4, max_features=sqrt, max_depth=32, bootstrap=False \n",
            "[CV]  n_estimators=683, min_samples_split=5, min_samples_leaf=4, max_features=sqrt, max_depth=32, bootstrap=False, total=   4.5s\n",
            "[CV] n_estimators=683, min_samples_split=5, min_samples_leaf=4, max_features=sqrt, max_depth=32, bootstrap=False \n",
            "[CV]  n_estimators=683, min_samples_split=5, min_samples_leaf=4, max_features=sqrt, max_depth=32, bootstrap=False, total=   4.5s\n",
            "[CV] n_estimators=1000, min_samples_split=5, min_samples_leaf=1, max_features=sqrt, max_depth=76, bootstrap=True \n",
            "[CV]  n_estimators=1000, min_samples_split=5, min_samples_leaf=1, max_features=sqrt, max_depth=76, bootstrap=True, total=   5.5s\n",
            "[CV] n_estimators=1000, min_samples_split=5, min_samples_leaf=1, max_features=sqrt, max_depth=76, bootstrap=True \n",
            "[CV]  n_estimators=1000, min_samples_split=5, min_samples_leaf=1, max_features=sqrt, max_depth=76, bootstrap=True, total=   5.5s\n",
            "[CV] n_estimators=1000, min_samples_split=5, min_samples_leaf=1, max_features=sqrt, max_depth=76, bootstrap=True \n",
            "[CV]  n_estimators=1000, min_samples_split=5, min_samples_leaf=1, max_features=sqrt, max_depth=76, bootstrap=True, total=   5.5s\n",
            "[CV] n_estimators=472, min_samples_split=5, min_samples_leaf=4, max_features=auto, max_depth=None, bootstrap=True \n",
            "[CV]  n_estimators=472, min_samples_split=5, min_samples_leaf=4, max_features=auto, max_depth=None, bootstrap=True, total=   2.3s\n",
            "[CV] n_estimators=472, min_samples_split=5, min_samples_leaf=4, max_features=auto, max_depth=None, bootstrap=True \n",
            "[CV]  n_estimators=472, min_samples_split=5, min_samples_leaf=4, max_features=auto, max_depth=None, bootstrap=True, total=   2.3s\n",
            "[CV] n_estimators=472, min_samples_split=5, min_samples_leaf=4, max_features=auto, max_depth=None, bootstrap=True \n",
            "[CV]  n_estimators=472, min_samples_split=5, min_samples_leaf=4, max_features=auto, max_depth=None, bootstrap=True, total=   2.3s\n",
            "[CV] n_estimators=50, min_samples_split=2, min_samples_leaf=4, max_features=auto, max_depth=32, bootstrap=False \n",
            "[CV]  n_estimators=50, min_samples_split=2, min_samples_leaf=4, max_features=auto, max_depth=32, bootstrap=False, total=   0.4s\n",
            "[CV] n_estimators=50, min_samples_split=2, min_samples_leaf=4, max_features=auto, max_depth=32, bootstrap=False \n",
            "[CV]  n_estimators=50, min_samples_split=2, min_samples_leaf=4, max_features=auto, max_depth=32, bootstrap=False, total=   0.3s\n",
            "[CV] n_estimators=50, min_samples_split=2, min_samples_leaf=4, max_features=auto, max_depth=32, bootstrap=False \n",
            "[CV]  n_estimators=50, min_samples_split=2, min_samples_leaf=4, max_features=auto, max_depth=32, bootstrap=False, total=   0.3s\n",
            "[CV] n_estimators=155, min_samples_split=2, min_samples_leaf=4, max_features=sqrt, max_depth=76, bootstrap=True \n",
            "[CV]  n_estimators=155, min_samples_split=2, min_samples_leaf=4, max_features=sqrt, max_depth=76, bootstrap=True, total=   0.8s\n",
            "[CV] n_estimators=155, min_samples_split=2, min_samples_leaf=4, max_features=sqrt, max_depth=76, bootstrap=True \n",
            "[CV]  n_estimators=155, min_samples_split=2, min_samples_leaf=4, max_features=sqrt, max_depth=76, bootstrap=True, total=   0.8s\n",
            "[CV] n_estimators=155, min_samples_split=2, min_samples_leaf=4, max_features=sqrt, max_depth=76, bootstrap=True \n",
            "[CV]  n_estimators=155, min_samples_split=2, min_samples_leaf=4, max_features=sqrt, max_depth=76, bootstrap=True, total=   0.8s\n",
            "[CV] n_estimators=788, min_samples_split=5, min_samples_leaf=2, max_features=sqrt, max_depth=98, bootstrap=False \n",
            "[CV]  n_estimators=788, min_samples_split=5, min_samples_leaf=2, max_features=sqrt, max_depth=98, bootstrap=False, total=   5.7s\n",
            "[CV] n_estimators=788, min_samples_split=5, min_samples_leaf=2, max_features=sqrt, max_depth=98, bootstrap=False \n",
            "[CV]  n_estimators=788, min_samples_split=5, min_samples_leaf=2, max_features=sqrt, max_depth=98, bootstrap=False, total=   5.6s\n",
            "[CV] n_estimators=788, min_samples_split=5, min_samples_leaf=2, max_features=sqrt, max_depth=98, bootstrap=False \n",
            "[CV]  n_estimators=788, min_samples_split=5, min_samples_leaf=2, max_features=sqrt, max_depth=98, bootstrap=False, total=   5.6s\n",
            "[CV] n_estimators=50, min_samples_split=2, min_samples_leaf=1, max_features=sqrt, max_depth=None, bootstrap=False \n",
            "[CV]  n_estimators=50, min_samples_split=2, min_samples_leaf=1, max_features=sqrt, max_depth=None, bootstrap=False, total=   0.4s\n",
            "[CV] n_estimators=50, min_samples_split=2, min_samples_leaf=1, max_features=sqrt, max_depth=None, bootstrap=False \n",
            "[CV]  n_estimators=50, min_samples_split=2, min_samples_leaf=1, max_features=sqrt, max_depth=None, bootstrap=False, total=   0.4s\n",
            "[CV] n_estimators=50, min_samples_split=2, min_samples_leaf=1, max_features=sqrt, max_depth=None, bootstrap=False \n",
            "[CV]  n_estimators=50, min_samples_split=2, min_samples_leaf=1, max_features=sqrt, max_depth=None, bootstrap=False, total=   0.4s\n",
            "[CV] n_estimators=50, min_samples_split=2, min_samples_leaf=1, max_features=sqrt, max_depth=21, bootstrap=True \n",
            "[CV]  n_estimators=50, min_samples_split=2, min_samples_leaf=1, max_features=sqrt, max_depth=21, bootstrap=True, total=   0.3s\n",
            "[CV] n_estimators=50, min_samples_split=2, min_samples_leaf=1, max_features=sqrt, max_depth=21, bootstrap=True \n",
            "[CV]  n_estimators=50, min_samples_split=2, min_samples_leaf=1, max_features=sqrt, max_depth=21, bootstrap=True, total=   0.3s\n",
            "[CV] n_estimators=50, min_samples_split=2, min_samples_leaf=1, max_features=sqrt, max_depth=21, bootstrap=True \n",
            "[CV]  n_estimators=50, min_samples_split=2, min_samples_leaf=1, max_features=sqrt, max_depth=21, bootstrap=True, total=   0.3s\n",
            "[CV] n_estimators=894, min_samples_split=5, min_samples_leaf=1, max_features=auto, max_depth=21, bootstrap=False \n",
            "[CV]  n_estimators=894, min_samples_split=5, min_samples_leaf=1, max_features=auto, max_depth=21, bootstrap=False, total=   6.6s\n",
            "[CV] n_estimators=894, min_samples_split=5, min_samples_leaf=1, max_features=auto, max_depth=21, bootstrap=False \n",
            "[CV]  n_estimators=894, min_samples_split=5, min_samples_leaf=1, max_features=auto, max_depth=21, bootstrap=False, total=   6.8s\n",
            "[CV] n_estimators=894, min_samples_split=5, min_samples_leaf=1, max_features=auto, max_depth=21, bootstrap=False \n",
            "[CV]  n_estimators=894, min_samples_split=5, min_samples_leaf=1, max_features=auto, max_depth=21, bootstrap=False, total=   6.8s\n",
            "[CV] n_estimators=50, min_samples_split=10, min_samples_leaf=4, max_features=sqrt, max_depth=98, bootstrap=True \n",
            "[CV]  n_estimators=50, min_samples_split=10, min_samples_leaf=4, max_features=sqrt, max_depth=98, bootstrap=True, total=   0.2s\n",
            "[CV] n_estimators=50, min_samples_split=10, min_samples_leaf=4, max_features=sqrt, max_depth=98, bootstrap=True \n",
            "[CV]  n_estimators=50, min_samples_split=10, min_samples_leaf=4, max_features=sqrt, max_depth=98, bootstrap=True, total=   0.3s\n",
            "[CV] n_estimators=50, min_samples_split=10, min_samples_leaf=4, max_features=sqrt, max_depth=98, bootstrap=True \n",
            "[CV]  n_estimators=50, min_samples_split=10, min_samples_leaf=4, max_features=sqrt, max_depth=98, bootstrap=True, total=   0.2s\n",
            "[CV] n_estimators=577, min_samples_split=2, min_samples_leaf=2, max_features=sqrt, max_depth=110, bootstrap=True \n",
            "[CV]  n_estimators=577, min_samples_split=2, min_samples_leaf=2, max_features=sqrt, max_depth=110, bootstrap=True, total=   3.1s\n",
            "[CV] n_estimators=577, min_samples_split=2, min_samples_leaf=2, max_features=sqrt, max_depth=110, bootstrap=True \n",
            "[CV]  n_estimators=577, min_samples_split=2, min_samples_leaf=2, max_features=sqrt, max_depth=110, bootstrap=True, total=   3.1s\n",
            "[CV] n_estimators=577, min_samples_split=2, min_samples_leaf=2, max_features=sqrt, max_depth=110, bootstrap=True \n",
            "[CV]  n_estimators=577, min_samples_split=2, min_samples_leaf=2, max_features=sqrt, max_depth=110, bootstrap=True, total=   3.1s\n",
            "[CV] n_estimators=577, min_samples_split=10, min_samples_leaf=4, max_features=sqrt, max_depth=110, bootstrap=True \n",
            "[CV]  n_estimators=577, min_samples_split=10, min_samples_leaf=4, max_features=sqrt, max_depth=110, bootstrap=True, total=   2.8s\n",
            "[CV] n_estimators=577, min_samples_split=10, min_samples_leaf=4, max_features=sqrt, max_depth=110, bootstrap=True \n",
            "[CV]  n_estimators=577, min_samples_split=10, min_samples_leaf=4, max_features=sqrt, max_depth=110, bootstrap=True, total=   2.8s\n",
            "[CV] n_estimators=577, min_samples_split=10, min_samples_leaf=4, max_features=sqrt, max_depth=110, bootstrap=True \n",
            "[CV]  n_estimators=577, min_samples_split=10, min_samples_leaf=4, max_features=sqrt, max_depth=110, bootstrap=True, total=   2.8s\n",
            "[CV] n_estimators=155, min_samples_split=2, min_samples_leaf=2, max_features=auto, max_depth=21, bootstrap=True \n",
            "[CV]  n_estimators=155, min_samples_split=2, min_samples_leaf=2, max_features=auto, max_depth=21, bootstrap=True, total=   0.8s\n",
            "[CV] n_estimators=155, min_samples_split=2, min_samples_leaf=2, max_features=auto, max_depth=21, bootstrap=True \n",
            "[CV]  n_estimators=155, min_samples_split=2, min_samples_leaf=2, max_features=auto, max_depth=21, bootstrap=True, total=   0.8s\n",
            "[CV] n_estimators=155, min_samples_split=2, min_samples_leaf=2, max_features=auto, max_depth=21, bootstrap=True \n",
            "[CV]  n_estimators=155, min_samples_split=2, min_samples_leaf=2, max_features=auto, max_depth=21, bootstrap=True, total=   0.8s\n",
            "[CV] n_estimators=788, min_samples_split=5, min_samples_leaf=2, max_features=sqrt, max_depth=87, bootstrap=False \n",
            "[CV]  n_estimators=788, min_samples_split=5, min_samples_leaf=2, max_features=sqrt, max_depth=87, bootstrap=False, total=   5.6s\n",
            "[CV] n_estimators=788, min_samples_split=5, min_samples_leaf=2, max_features=sqrt, max_depth=87, bootstrap=False \n",
            "[CV]  n_estimators=788, min_samples_split=5, min_samples_leaf=2, max_features=sqrt, max_depth=87, bootstrap=False, total=   5.6s\n",
            "[CV] n_estimators=788, min_samples_split=5, min_samples_leaf=2, max_features=sqrt, max_depth=87, bootstrap=False \n",
            "[CV]  n_estimators=788, min_samples_split=5, min_samples_leaf=2, max_features=sqrt, max_depth=87, bootstrap=False, total=   5.6s\n",
            "[CV] n_estimators=155, min_samples_split=10, min_samples_leaf=1, max_features=auto, max_depth=110, bootstrap=True \n",
            "[CV]  n_estimators=155, min_samples_split=10, min_samples_leaf=1, max_features=auto, max_depth=110, bootstrap=True, total=   0.9s\n",
            "[CV] n_estimators=155, min_samples_split=10, min_samples_leaf=1, max_features=auto, max_depth=110, bootstrap=True \n",
            "[CV]  n_estimators=155, min_samples_split=10, min_samples_leaf=1, max_features=auto, max_depth=110, bootstrap=True, total=   0.8s\n",
            "[CV] n_estimators=155, min_samples_split=10, min_samples_leaf=1, max_features=auto, max_depth=110, bootstrap=True \n",
            "[CV]  n_estimators=155, min_samples_split=10, min_samples_leaf=1, max_features=auto, max_depth=110, bootstrap=True, total=   0.8s\n",
            "[CV] n_estimators=1000, min_samples_split=2, min_samples_leaf=4, max_features=auto, max_depth=76, bootstrap=False \n",
            "[CV]  n_estimators=1000, min_samples_split=2, min_samples_leaf=4, max_features=auto, max_depth=76, bootstrap=False, total=   6.6s\n",
            "[CV] n_estimators=1000, min_samples_split=2, min_samples_leaf=4, max_features=auto, max_depth=76, bootstrap=False \n",
            "[CV]  n_estimators=1000, min_samples_split=2, min_samples_leaf=4, max_features=auto, max_depth=76, bootstrap=False, total=   6.5s\n",
            "[CV] n_estimators=1000, min_samples_split=2, min_samples_leaf=4, max_features=auto, max_depth=76, bootstrap=False \n",
            "[CV]  n_estimators=1000, min_samples_split=2, min_samples_leaf=4, max_features=auto, max_depth=76, bootstrap=False, total=   6.6s\n",
            "[CV] n_estimators=472, min_samples_split=5, min_samples_leaf=1, max_features=auto, max_depth=10, bootstrap=True \n",
            "[CV]  n_estimators=472, min_samples_split=5, min_samples_leaf=1, max_features=auto, max_depth=10, bootstrap=True, total=   2.1s\n",
            "[CV] n_estimators=472, min_samples_split=5, min_samples_leaf=1, max_features=auto, max_depth=10, bootstrap=True \n",
            "[CV]  n_estimators=472, min_samples_split=5, min_samples_leaf=1, max_features=auto, max_depth=10, bootstrap=True, total=   2.1s\n",
            "[CV] n_estimators=472, min_samples_split=5, min_samples_leaf=1, max_features=auto, max_depth=10, bootstrap=True \n",
            "[CV]  n_estimators=472, min_samples_split=5, min_samples_leaf=1, max_features=auto, max_depth=10, bootstrap=True, total=   2.2s\n",
            "[CV] n_estimators=50, min_samples_split=2, min_samples_leaf=2, max_features=sqrt, max_depth=54, bootstrap=False \n",
            "[CV]  n_estimators=50, min_samples_split=2, min_samples_leaf=2, max_features=sqrt, max_depth=54, bootstrap=False, total=   0.4s\n",
            "[CV] n_estimators=50, min_samples_split=2, min_samples_leaf=2, max_features=sqrt, max_depth=54, bootstrap=False \n",
            "[CV]  n_estimators=50, min_samples_split=2, min_samples_leaf=2, max_features=sqrt, max_depth=54, bootstrap=False, total=   0.4s\n",
            "[CV] n_estimators=50, min_samples_split=2, min_samples_leaf=2, max_features=sqrt, max_depth=54, bootstrap=False \n",
            "[CV]  n_estimators=50, min_samples_split=2, min_samples_leaf=2, max_features=sqrt, max_depth=54, bootstrap=False, total=   0.4s\n",
            "[CV] n_estimators=261, min_samples_split=10, min_samples_leaf=1, max_features=sqrt, max_depth=None, bootstrap=True \n",
            "[CV]  n_estimators=261, min_samples_split=10, min_samples_leaf=1, max_features=sqrt, max_depth=None, bootstrap=True, total=   1.4s\n",
            "[CV] n_estimators=261, min_samples_split=10, min_samples_leaf=1, max_features=sqrt, max_depth=None, bootstrap=True \n",
            "[CV]  n_estimators=261, min_samples_split=10, min_samples_leaf=1, max_features=sqrt, max_depth=None, bootstrap=True, total=   1.4s\n",
            "[CV] n_estimators=261, min_samples_split=10, min_samples_leaf=1, max_features=sqrt, max_depth=None, bootstrap=True \n",
            "[CV]  n_estimators=261, min_samples_split=10, min_samples_leaf=1, max_features=sqrt, max_depth=None, bootstrap=True, total=   1.4s\n",
            "[CV] n_estimators=50, min_samples_split=5, min_samples_leaf=4, max_features=sqrt, max_depth=32, bootstrap=False \n",
            "[CV]  n_estimators=50, min_samples_split=5, min_samples_leaf=4, max_features=sqrt, max_depth=32, bootstrap=False, total=   0.3s\n",
            "[CV] n_estimators=50, min_samples_split=5, min_samples_leaf=4, max_features=sqrt, max_depth=32, bootstrap=False \n",
            "[CV]  n_estimators=50, min_samples_split=5, min_samples_leaf=4, max_features=sqrt, max_depth=32, bootstrap=False, total=   0.3s\n",
            "[CV] n_estimators=50, min_samples_split=5, min_samples_leaf=4, max_features=sqrt, max_depth=32, bootstrap=False \n",
            "[CV]  n_estimators=50, min_samples_split=5, min_samples_leaf=4, max_features=sqrt, max_depth=32, bootstrap=False, total=   0.3s\n",
            "[CV] n_estimators=894, min_samples_split=5, min_samples_leaf=1, max_features=sqrt, max_depth=21, bootstrap=False \n",
            "[CV]  n_estimators=894, min_samples_split=5, min_samples_leaf=1, max_features=sqrt, max_depth=21, bootstrap=False, total=   6.7s\n",
            "[CV] n_estimators=894, min_samples_split=5, min_samples_leaf=1, max_features=sqrt, max_depth=21, bootstrap=False \n",
            "[CV]  n_estimators=894, min_samples_split=5, min_samples_leaf=1, max_features=sqrt, max_depth=21, bootstrap=False, total=   6.5s\n",
            "[CV] n_estimators=894, min_samples_split=5, min_samples_leaf=1, max_features=sqrt, max_depth=21, bootstrap=False \n",
            "[CV]  n_estimators=894, min_samples_split=5, min_samples_leaf=1, max_features=sqrt, max_depth=21, bootstrap=False, total=   6.5s\n",
            "[CV] n_estimators=155, min_samples_split=2, min_samples_leaf=2, max_features=sqrt, max_depth=87, bootstrap=False \n",
            "[CV]  n_estimators=155, min_samples_split=2, min_samples_leaf=2, max_features=sqrt, max_depth=87, bootstrap=False, total=   1.1s\n",
            "[CV] n_estimators=155, min_samples_split=2, min_samples_leaf=2, max_features=sqrt, max_depth=87, bootstrap=False \n",
            "[CV]  n_estimators=155, min_samples_split=2, min_samples_leaf=2, max_features=sqrt, max_depth=87, bootstrap=False, total=   1.1s\n",
            "[CV] n_estimators=155, min_samples_split=2, min_samples_leaf=2, max_features=sqrt, max_depth=87, bootstrap=False \n",
            "[CV]  n_estimators=155, min_samples_split=2, min_samples_leaf=2, max_features=sqrt, max_depth=87, bootstrap=False, total=   1.1s\n",
            "[CV] n_estimators=366, min_samples_split=10, min_samples_leaf=1, max_features=auto, max_depth=10, bootstrap=False \n",
            "[CV]  n_estimators=366, min_samples_split=10, min_samples_leaf=1, max_features=auto, max_depth=10, bootstrap=False, total=   2.0s\n",
            "[CV] n_estimators=366, min_samples_split=10, min_samples_leaf=1, max_features=auto, max_depth=10, bootstrap=False \n",
            "[CV]  n_estimators=366, min_samples_split=10, min_samples_leaf=1, max_features=auto, max_depth=10, bootstrap=False, total=   2.0s\n",
            "[CV] n_estimators=366, min_samples_split=10, min_samples_leaf=1, max_features=auto, max_depth=10, bootstrap=False \n",
            "[CV]  n_estimators=366, min_samples_split=10, min_samples_leaf=1, max_features=auto, max_depth=10, bootstrap=False, total=   2.0s\n",
            "[CV] n_estimators=50, min_samples_split=5, min_samples_leaf=1, max_features=auto, max_depth=None, bootstrap=False \n",
            "[CV]  n_estimators=50, min_samples_split=5, min_samples_leaf=1, max_features=auto, max_depth=None, bootstrap=False, total=   0.4s\n",
            "[CV] n_estimators=50, min_samples_split=5, min_samples_leaf=1, max_features=auto, max_depth=None, bootstrap=False \n",
            "[CV]  n_estimators=50, min_samples_split=5, min_samples_leaf=1, max_features=auto, max_depth=None, bootstrap=False, total=   0.4s\n",
            "[CV] n_estimators=50, min_samples_split=5, min_samples_leaf=1, max_features=auto, max_depth=None, bootstrap=False \n",
            "[CV]  n_estimators=50, min_samples_split=5, min_samples_leaf=1, max_features=auto, max_depth=None, bootstrap=False, total=   0.4s\n",
            "[CV] n_estimators=261, min_samples_split=5, min_samples_leaf=1, max_features=auto, max_depth=65, bootstrap=True \n",
            "[CV]  n_estimators=261, min_samples_split=5, min_samples_leaf=1, max_features=auto, max_depth=65, bootstrap=True, total=   1.4s\n",
            "[CV] n_estimators=261, min_samples_split=5, min_samples_leaf=1, max_features=auto, max_depth=65, bootstrap=True \n",
            "[CV]  n_estimators=261, min_samples_split=5, min_samples_leaf=1, max_features=auto, max_depth=65, bootstrap=True, total=   1.4s\n",
            "[CV] n_estimators=261, min_samples_split=5, min_samples_leaf=1, max_features=auto, max_depth=65, bootstrap=True \n",
            "[CV]  n_estimators=261, min_samples_split=5, min_samples_leaf=1, max_features=auto, max_depth=65, bootstrap=True, total=   1.4s\n",
            "[CV] n_estimators=50, min_samples_split=2, min_samples_leaf=4, max_features=auto, max_depth=21, bootstrap=True \n",
            "[CV]  n_estimators=50, min_samples_split=2, min_samples_leaf=4, max_features=auto, max_depth=21, bootstrap=True, total=   0.3s\n",
            "[CV] n_estimators=50, min_samples_split=2, min_samples_leaf=4, max_features=auto, max_depth=21, bootstrap=True \n",
            "[CV]  n_estimators=50, min_samples_split=2, min_samples_leaf=4, max_features=auto, max_depth=21, bootstrap=True, total=   0.3s\n",
            "[CV] n_estimators=50, min_samples_split=2, min_samples_leaf=4, max_features=auto, max_depth=21, bootstrap=True \n",
            "[CV]  n_estimators=50, min_samples_split=2, min_samples_leaf=4, max_features=auto, max_depth=21, bootstrap=True, total=   0.2s\n",
            "[CV] n_estimators=894, min_samples_split=2, min_samples_leaf=1, max_features=sqrt, max_depth=54, bootstrap=True \n",
            "[CV]  n_estimators=894, min_samples_split=2, min_samples_leaf=1, max_features=sqrt, max_depth=54, bootstrap=True, total=   5.0s\n",
            "[CV] n_estimators=894, min_samples_split=2, min_samples_leaf=1, max_features=sqrt, max_depth=54, bootstrap=True \n",
            "[CV]  n_estimators=894, min_samples_split=2, min_samples_leaf=1, max_features=sqrt, max_depth=54, bootstrap=True, total=   5.0s\n",
            "[CV] n_estimators=894, min_samples_split=2, min_samples_leaf=1, max_features=sqrt, max_depth=54, bootstrap=True \n",
            "[CV]  n_estimators=894, min_samples_split=2, min_samples_leaf=1, max_features=sqrt, max_depth=54, bootstrap=True, total=   5.0s\n",
            "[CV] n_estimators=788, min_samples_split=10, min_samples_leaf=4, max_features=sqrt, max_depth=54, bootstrap=True \n",
            "[CV]  n_estimators=788, min_samples_split=10, min_samples_leaf=4, max_features=sqrt, max_depth=54, bootstrap=True, total=   3.9s\n",
            "[CV] n_estimators=788, min_samples_split=10, min_samples_leaf=4, max_features=sqrt, max_depth=54, bootstrap=True \n",
            "[CV]  n_estimators=788, min_samples_split=10, min_samples_leaf=4, max_features=sqrt, max_depth=54, bootstrap=True, total=   3.8s\n",
            "[CV] n_estimators=788, min_samples_split=10, min_samples_leaf=4, max_features=sqrt, max_depth=54, bootstrap=True \n",
            "[CV]  n_estimators=788, min_samples_split=10, min_samples_leaf=4, max_features=sqrt, max_depth=54, bootstrap=True, total=   3.9s\n",
            "[CV] n_estimators=472, min_samples_split=10, min_samples_leaf=1, max_features=auto, max_depth=54, bootstrap=True \n",
            "[CV]  n_estimators=472, min_samples_split=10, min_samples_leaf=1, max_features=auto, max_depth=54, bootstrap=True, total=   2.5s\n",
            "[CV] n_estimators=472, min_samples_split=10, min_samples_leaf=1, max_features=auto, max_depth=54, bootstrap=True \n",
            "[CV]  n_estimators=472, min_samples_split=10, min_samples_leaf=1, max_features=auto, max_depth=54, bootstrap=True, total=   2.5s\n",
            "[CV] n_estimators=472, min_samples_split=10, min_samples_leaf=1, max_features=auto, max_depth=54, bootstrap=True \n",
            "[CV]  n_estimators=472, min_samples_split=10, min_samples_leaf=1, max_features=auto, max_depth=54, bootstrap=True, total=   2.5s\n",
            "[CV] n_estimators=50, min_samples_split=5, min_samples_leaf=4, max_features=auto, max_depth=10, bootstrap=True \n",
            "[CV]  n_estimators=50, min_samples_split=5, min_samples_leaf=4, max_features=auto, max_depth=10, bootstrap=True, total=   0.2s\n",
            "[CV] n_estimators=50, min_samples_split=5, min_samples_leaf=4, max_features=auto, max_depth=10, bootstrap=True \n",
            "[CV]  n_estimators=50, min_samples_split=5, min_samples_leaf=4, max_features=auto, max_depth=10, bootstrap=True, total=   0.2s\n",
            "[CV] n_estimators=50, min_samples_split=5, min_samples_leaf=4, max_features=auto, max_depth=10, bootstrap=True \n",
            "[CV]  n_estimators=50, min_samples_split=5, min_samples_leaf=4, max_features=auto, max_depth=10, bootstrap=True, total=   0.2s\n",
            "[CV] n_estimators=1000, min_samples_split=5, min_samples_leaf=1, max_features=sqrt, max_depth=54, bootstrap=True \n",
            "[CV]  n_estimators=1000, min_samples_split=5, min_samples_leaf=1, max_features=sqrt, max_depth=54, bootstrap=True, total=   5.5s\n",
            "[CV] n_estimators=1000, min_samples_split=5, min_samples_leaf=1, max_features=sqrt, max_depth=54, bootstrap=True \n",
            "[CV]  n_estimators=1000, min_samples_split=5, min_samples_leaf=1, max_features=sqrt, max_depth=54, bootstrap=True, total=   5.5s\n",
            "[CV] n_estimators=1000, min_samples_split=5, min_samples_leaf=1, max_features=sqrt, max_depth=54, bootstrap=True \n",
            "[CV]  n_estimators=1000, min_samples_split=5, min_samples_leaf=1, max_features=sqrt, max_depth=54, bootstrap=True, total=   5.6s\n",
            "[CV] n_estimators=894, min_samples_split=5, min_samples_leaf=2, max_features=auto, max_depth=87, bootstrap=False \n",
            "[CV]  n_estimators=894, min_samples_split=5, min_samples_leaf=2, max_features=auto, max_depth=87, bootstrap=False, total=   6.4s\n",
            "[CV] n_estimators=894, min_samples_split=5, min_samples_leaf=2, max_features=auto, max_depth=87, bootstrap=False \n",
            "[CV]  n_estimators=894, min_samples_split=5, min_samples_leaf=2, max_features=auto, max_depth=87, bootstrap=False, total=   6.3s\n",
            "[CV] n_estimators=894, min_samples_split=5, min_samples_leaf=2, max_features=auto, max_depth=87, bootstrap=False \n",
            "[CV]  n_estimators=894, min_samples_split=5, min_samples_leaf=2, max_features=auto, max_depth=87, bootstrap=False, total=   6.3s\n",
            "[CV] n_estimators=894, min_samples_split=10, min_samples_leaf=1, max_features=auto, max_depth=43, bootstrap=True \n",
            "[CV]  n_estimators=894, min_samples_split=10, min_samples_leaf=1, max_features=auto, max_depth=43, bootstrap=True, total=   4.7s\n",
            "[CV] n_estimators=894, min_samples_split=10, min_samples_leaf=1, max_features=auto, max_depth=43, bootstrap=True \n",
            "[CV]  n_estimators=894, min_samples_split=10, min_samples_leaf=1, max_features=auto, max_depth=43, bootstrap=True, total=   4.7s\n",
            "[CV] n_estimators=894, min_samples_split=10, min_samples_leaf=1, max_features=auto, max_depth=43, bootstrap=True \n",
            "[CV]  n_estimators=894, min_samples_split=10, min_samples_leaf=1, max_features=auto, max_depth=43, bootstrap=True, total=   4.7s\n",
            "[CV] n_estimators=261, min_samples_split=2, min_samples_leaf=2, max_features=auto, max_depth=65, bootstrap=True \n",
            "[CV]  n_estimators=261, min_samples_split=2, min_samples_leaf=2, max_features=auto, max_depth=65, bootstrap=True, total=   1.4s\n",
            "[CV] n_estimators=261, min_samples_split=2, min_samples_leaf=2, max_features=auto, max_depth=65, bootstrap=True \n",
            "[CV]  n_estimators=261, min_samples_split=2, min_samples_leaf=2, max_features=auto, max_depth=65, bootstrap=True, total=   1.4s\n",
            "[CV] n_estimators=261, min_samples_split=2, min_samples_leaf=2, max_features=auto, max_depth=65, bootstrap=True \n",
            "[CV]  n_estimators=261, min_samples_split=2, min_samples_leaf=2, max_features=auto, max_depth=65, bootstrap=True, total=   1.4s\n",
            "[CV] n_estimators=1000, min_samples_split=5, min_samples_leaf=1, max_features=auto, max_depth=None, bootstrap=False \n",
            "[CV]  n_estimators=1000, min_samples_split=5, min_samples_leaf=1, max_features=auto, max_depth=None, bootstrap=False, total=   7.4s\n",
            "[CV] n_estimators=1000, min_samples_split=5, min_samples_leaf=1, max_features=auto, max_depth=None, bootstrap=False \n",
            "[CV]  n_estimators=1000, min_samples_split=5, min_samples_leaf=1, max_features=auto, max_depth=None, bootstrap=False, total=   7.3s\n",
            "[CV] n_estimators=1000, min_samples_split=5, min_samples_leaf=1, max_features=auto, max_depth=None, bootstrap=False \n",
            "[CV]  n_estimators=1000, min_samples_split=5, min_samples_leaf=1, max_features=auto, max_depth=None, bootstrap=False, total=   7.4s\n",
            "[CV] n_estimators=894, min_samples_split=2, min_samples_leaf=1, max_features=auto, max_depth=10, bootstrap=True \n",
            "[CV]  n_estimators=894, min_samples_split=2, min_samples_leaf=1, max_features=auto, max_depth=10, bootstrap=True, total=   4.1s\n",
            "[CV] n_estimators=894, min_samples_split=2, min_samples_leaf=1, max_features=auto, max_depth=10, bootstrap=True \n",
            "[CV]  n_estimators=894, min_samples_split=2, min_samples_leaf=1, max_features=auto, max_depth=10, bootstrap=True, total=   4.0s\n",
            "[CV] n_estimators=894, min_samples_split=2, min_samples_leaf=1, max_features=auto, max_depth=10, bootstrap=True \n",
            "[CV]  n_estimators=894, min_samples_split=2, min_samples_leaf=1, max_features=auto, max_depth=10, bootstrap=True, total=   4.1s\n",
            "[CV] n_estimators=788, min_samples_split=10, min_samples_leaf=1, max_features=auto, max_depth=None, bootstrap=False \n",
            "[CV]  n_estimators=788, min_samples_split=10, min_samples_leaf=1, max_features=auto, max_depth=None, bootstrap=False, total=   5.8s\n",
            "[CV] n_estimators=788, min_samples_split=10, min_samples_leaf=1, max_features=auto, max_depth=None, bootstrap=False \n",
            "[CV]  n_estimators=788, min_samples_split=10, min_samples_leaf=1, max_features=auto, max_depth=None, bootstrap=False, total=   5.7s\n",
            "[CV] n_estimators=788, min_samples_split=10, min_samples_leaf=1, max_features=auto, max_depth=None, bootstrap=False \n",
            "[CV]  n_estimators=788, min_samples_split=10, min_samples_leaf=1, max_features=auto, max_depth=None, bootstrap=False, total=   5.7s\n",
            "[CV] n_estimators=894, min_samples_split=5, min_samples_leaf=4, max_features=auto, max_depth=32, bootstrap=True \n",
            "[CV]  n_estimators=894, min_samples_split=5, min_samples_leaf=4, max_features=auto, max_depth=32, bootstrap=True, total=   4.5s\n",
            "[CV] n_estimators=894, min_samples_split=5, min_samples_leaf=4, max_features=auto, max_depth=32, bootstrap=True \n",
            "[CV]  n_estimators=894, min_samples_split=5, min_samples_leaf=4, max_features=auto, max_depth=32, bootstrap=True, total=   4.4s\n",
            "[CV] n_estimators=894, min_samples_split=5, min_samples_leaf=4, max_features=auto, max_depth=32, bootstrap=True \n",
            "[CV]  n_estimators=894, min_samples_split=5, min_samples_leaf=4, max_features=auto, max_depth=32, bootstrap=True, total=   4.4s\n",
            "[CV] n_estimators=788, min_samples_split=2, min_samples_leaf=4, max_features=sqrt, max_depth=110, bootstrap=True \n",
            "[CV]  n_estimators=788, min_samples_split=2, min_samples_leaf=4, max_features=sqrt, max_depth=110, bootstrap=True, total=   3.9s\n",
            "[CV] n_estimators=788, min_samples_split=2, min_samples_leaf=4, max_features=sqrt, max_depth=110, bootstrap=True \n",
            "[CV]  n_estimators=788, min_samples_split=2, min_samples_leaf=4, max_features=sqrt, max_depth=110, bootstrap=True, total=   3.8s\n",
            "[CV] n_estimators=788, min_samples_split=2, min_samples_leaf=4, max_features=sqrt, max_depth=110, bootstrap=True \n",
            "[CV]  n_estimators=788, min_samples_split=2, min_samples_leaf=4, max_features=sqrt, max_depth=110, bootstrap=True, total=   3.8s\n",
            "[CV] n_estimators=1000, min_samples_split=5, min_samples_leaf=1, max_features=auto, max_depth=98, bootstrap=False \n",
            "[CV]  n_estimators=1000, min_samples_split=5, min_samples_leaf=1, max_features=auto, max_depth=98, bootstrap=False, total=   7.4s\n",
            "[CV] n_estimators=1000, min_samples_split=5, min_samples_leaf=1, max_features=auto, max_depth=98, bootstrap=False \n",
            "[CV]  n_estimators=1000, min_samples_split=5, min_samples_leaf=1, max_features=auto, max_depth=98, bootstrap=False, total=   7.4s\n",
            "[CV] n_estimators=1000, min_samples_split=5, min_samples_leaf=1, max_features=auto, max_depth=98, bootstrap=False \n",
            "[CV]  n_estimators=1000, min_samples_split=5, min_samples_leaf=1, max_features=auto, max_depth=98, bootstrap=False, total=   7.5s\n",
            "[CV] n_estimators=366, min_samples_split=5, min_samples_leaf=2, max_features=sqrt, max_depth=32, bootstrap=False \n",
            "[CV]  n_estimators=366, min_samples_split=5, min_samples_leaf=2, max_features=sqrt, max_depth=32, bootstrap=False, total=   2.6s\n",
            "[CV] n_estimators=366, min_samples_split=5, min_samples_leaf=2, max_features=sqrt, max_depth=32, bootstrap=False \n",
            "[CV]  n_estimators=366, min_samples_split=5, min_samples_leaf=2, max_features=sqrt, max_depth=32, bootstrap=False, total=   2.7s\n",
            "[CV] n_estimators=366, min_samples_split=5, min_samples_leaf=2, max_features=sqrt, max_depth=32, bootstrap=False \n",
            "[CV]  n_estimators=366, min_samples_split=5, min_samples_leaf=2, max_features=sqrt, max_depth=32, bootstrap=False, total=   2.7s\n",
            "[CV] n_estimators=1000, min_samples_split=10, min_samples_leaf=1, max_features=auto, max_depth=65, bootstrap=True \n",
            "[CV]  n_estimators=1000, min_samples_split=10, min_samples_leaf=1, max_features=auto, max_depth=65, bootstrap=True, total=   5.5s\n",
            "[CV] n_estimators=1000, min_samples_split=10, min_samples_leaf=1, max_features=auto, max_depth=65, bootstrap=True \n",
            "[CV]  n_estimators=1000, min_samples_split=10, min_samples_leaf=1, max_features=auto, max_depth=65, bootstrap=True, total=   5.3s\n",
            "[CV] n_estimators=1000, min_samples_split=10, min_samples_leaf=1, max_features=auto, max_depth=65, bootstrap=True \n",
            "[CV]  n_estimators=1000, min_samples_split=10, min_samples_leaf=1, max_features=auto, max_depth=65, bootstrap=True, total=   5.3s\n",
            "[CV] n_estimators=50, min_samples_split=5, min_samples_leaf=1, max_features=sqrt, max_depth=110, bootstrap=False \n",
            "[CV]  n_estimators=50, min_samples_split=5, min_samples_leaf=1, max_features=sqrt, max_depth=110, bootstrap=False, total=   0.4s\n",
            "[CV] n_estimators=50, min_samples_split=5, min_samples_leaf=1, max_features=sqrt, max_depth=110, bootstrap=False \n",
            "[CV]  n_estimators=50, min_samples_split=5, min_samples_leaf=1, max_features=sqrt, max_depth=110, bootstrap=False, total=   0.4s\n",
            "[CV] n_estimators=50, min_samples_split=5, min_samples_leaf=1, max_features=sqrt, max_depth=110, bootstrap=False \n",
            "[CV]  n_estimators=50, min_samples_split=5, min_samples_leaf=1, max_features=sqrt, max_depth=110, bootstrap=False, total=   0.4s\n",
            "[CV] n_estimators=683, min_samples_split=10, min_samples_leaf=2, max_features=sqrt, max_depth=65, bootstrap=False \n",
            "[CV]  n_estimators=683, min_samples_split=10, min_samples_leaf=2, max_features=sqrt, max_depth=65, bootstrap=False, total=   4.8s\n",
            "[CV] n_estimators=683, min_samples_split=10, min_samples_leaf=2, max_features=sqrt, max_depth=65, bootstrap=False \n",
            "[CV]  n_estimators=683, min_samples_split=10, min_samples_leaf=2, max_features=sqrt, max_depth=65, bootstrap=False, total=   4.6s\n",
            "[CV] n_estimators=683, min_samples_split=10, min_samples_leaf=2, max_features=sqrt, max_depth=65, bootstrap=False \n",
            "[CV]  n_estimators=683, min_samples_split=10, min_samples_leaf=2, max_features=sqrt, max_depth=65, bootstrap=False, total=   4.7s\n",
            "[CV] n_estimators=1000, min_samples_split=2, min_samples_leaf=1, max_features=sqrt, max_depth=65, bootstrap=True \n",
            "[CV]  n_estimators=1000, min_samples_split=2, min_samples_leaf=1, max_features=sqrt, max_depth=65, bootstrap=True, total=   5.5s\n",
            "[CV] n_estimators=1000, min_samples_split=2, min_samples_leaf=1, max_features=sqrt, max_depth=65, bootstrap=True \n",
            "[CV]  n_estimators=1000, min_samples_split=2, min_samples_leaf=1, max_features=sqrt, max_depth=65, bootstrap=True, total=   5.6s\n",
            "[CV] n_estimators=1000, min_samples_split=2, min_samples_leaf=1, max_features=sqrt, max_depth=65, bootstrap=True \n",
            "[CV]  n_estimators=1000, min_samples_split=2, min_samples_leaf=1, max_features=sqrt, max_depth=65, bootstrap=True, total=   5.6s\n",
            "[CV] n_estimators=577, min_samples_split=10, min_samples_leaf=2, max_features=sqrt, max_depth=110, bootstrap=True \n",
            "[CV]  n_estimators=577, min_samples_split=10, min_samples_leaf=2, max_features=sqrt, max_depth=110, bootstrap=True, total=   3.0s\n",
            "[CV] n_estimators=577, min_samples_split=10, min_samples_leaf=2, max_features=sqrt, max_depth=110, bootstrap=True \n",
            "[CV]  n_estimators=577, min_samples_split=10, min_samples_leaf=2, max_features=sqrt, max_depth=110, bootstrap=True, total=   3.0s\n",
            "[CV] n_estimators=577, min_samples_split=10, min_samples_leaf=2, max_features=sqrt, max_depth=110, bootstrap=True \n",
            "[CV]  n_estimators=577, min_samples_split=10, min_samples_leaf=2, max_features=sqrt, max_depth=110, bootstrap=True, total=   3.0s\n",
            "[CV] n_estimators=155, min_samples_split=2, min_samples_leaf=4, max_features=auto, max_depth=32, bootstrap=False \n",
            "[CV]  n_estimators=155, min_samples_split=2, min_samples_leaf=4, max_features=auto, max_depth=32, bootstrap=False, total=   1.0s\n",
            "[CV] n_estimators=155, min_samples_split=2, min_samples_leaf=4, max_features=auto, max_depth=32, bootstrap=False \n",
            "[CV]  n_estimators=155, min_samples_split=2, min_samples_leaf=4, max_features=auto, max_depth=32, bootstrap=False, total=   1.0s\n",
            "[CV] n_estimators=155, min_samples_split=2, min_samples_leaf=4, max_features=auto, max_depth=32, bootstrap=False \n",
            "[CV]  n_estimators=155, min_samples_split=2, min_samples_leaf=4, max_features=auto, max_depth=32, bootstrap=False, total=   1.0s\n",
            "[CV] n_estimators=577, min_samples_split=10, min_samples_leaf=4, max_features=auto, max_depth=54, bootstrap=True \n",
            "[CV]  n_estimators=577, min_samples_split=10, min_samples_leaf=4, max_features=auto, max_depth=54, bootstrap=True, total=   2.9s\n",
            "[CV] n_estimators=577, min_samples_split=10, min_samples_leaf=4, max_features=auto, max_depth=54, bootstrap=True \n",
            "[CV]  n_estimators=577, min_samples_split=10, min_samples_leaf=4, max_features=auto, max_depth=54, bootstrap=True, total=   2.8s\n",
            "[CV] n_estimators=577, min_samples_split=10, min_samples_leaf=4, max_features=auto, max_depth=54, bootstrap=True \n",
            "[CV]  n_estimators=577, min_samples_split=10, min_samples_leaf=4, max_features=auto, max_depth=54, bootstrap=True, total=   2.8s\n",
            "[CV] n_estimators=1000, min_samples_split=2, min_samples_leaf=2, max_features=auto, max_depth=10, bootstrap=False \n",
            "[CV]  n_estimators=1000, min_samples_split=2, min_samples_leaf=2, max_features=auto, max_depth=10, bootstrap=False, total=   5.6s\n",
            "[CV] n_estimators=1000, min_samples_split=2, min_samples_leaf=2, max_features=auto, max_depth=10, bootstrap=False \n",
            "[CV]  n_estimators=1000, min_samples_split=2, min_samples_leaf=2, max_features=auto, max_depth=10, bootstrap=False, total=   5.7s\n",
            "[CV] n_estimators=1000, min_samples_split=2, min_samples_leaf=2, max_features=auto, max_depth=10, bootstrap=False \n",
            "[CV]  n_estimators=1000, min_samples_split=2, min_samples_leaf=2, max_features=auto, max_depth=10, bootstrap=False, total=   5.5s\n",
            "[CV] n_estimators=894, min_samples_split=10, min_samples_leaf=4, max_features=sqrt, max_depth=98, bootstrap=False \n",
            "[CV]  n_estimators=894, min_samples_split=10, min_samples_leaf=4, max_features=sqrt, max_depth=98, bootstrap=False, total=   6.0s\n",
            "[CV] n_estimators=894, min_samples_split=10, min_samples_leaf=4, max_features=sqrt, max_depth=98, bootstrap=False \n",
            "[CV]  n_estimators=894, min_samples_split=10, min_samples_leaf=4, max_features=sqrt, max_depth=98, bootstrap=False, total=   5.8s\n",
            "[CV] n_estimators=894, min_samples_split=10, min_samples_leaf=4, max_features=sqrt, max_depth=98, bootstrap=False \n",
            "[CV]  n_estimators=894, min_samples_split=10, min_samples_leaf=4, max_features=sqrt, max_depth=98, bootstrap=False, total=   5.8s\n",
            "[CV] n_estimators=50, min_samples_split=2, min_samples_leaf=2, max_features=sqrt, max_depth=87, bootstrap=False \n",
            "[CV]  n_estimators=50, min_samples_split=2, min_samples_leaf=2, max_features=sqrt, max_depth=87, bootstrap=False, total=   0.4s\n",
            "[CV] n_estimators=50, min_samples_split=2, min_samples_leaf=2, max_features=sqrt, max_depth=87, bootstrap=False \n",
            "[CV]  n_estimators=50, min_samples_split=2, min_samples_leaf=2, max_features=sqrt, max_depth=87, bootstrap=False, total=   0.4s\n",
            "[CV] n_estimators=50, min_samples_split=2, min_samples_leaf=2, max_features=sqrt, max_depth=87, bootstrap=False \n",
            "[CV]  n_estimators=50, min_samples_split=2, min_samples_leaf=2, max_features=sqrt, max_depth=87, bootstrap=False, total=   0.4s\n",
            "[CV] n_estimators=261, min_samples_split=2, min_samples_leaf=2, max_features=auto, max_depth=10, bootstrap=True \n",
            "[CV]  n_estimators=261, min_samples_split=2, min_samples_leaf=2, max_features=auto, max_depth=10, bootstrap=True, total=   1.1s\n",
            "[CV] n_estimators=261, min_samples_split=2, min_samples_leaf=2, max_features=auto, max_depth=10, bootstrap=True \n",
            "[CV]  n_estimators=261, min_samples_split=2, min_samples_leaf=2, max_features=auto, max_depth=10, bootstrap=True, total=   1.2s\n",
            "[CV] n_estimators=261, min_samples_split=2, min_samples_leaf=2, max_features=auto, max_depth=10, bootstrap=True \n",
            "[CV]  n_estimators=261, min_samples_split=2, min_samples_leaf=2, max_features=auto, max_depth=10, bootstrap=True, total=   1.2s\n",
            "[CV] n_estimators=261, min_samples_split=10, min_samples_leaf=1, max_features=auto, max_depth=None, bootstrap=True \n",
            "[CV]  n_estimators=261, min_samples_split=10, min_samples_leaf=1, max_features=auto, max_depth=None, bootstrap=True, total=   1.3s\n",
            "[CV] n_estimators=261, min_samples_split=10, min_samples_leaf=1, max_features=auto, max_depth=None, bootstrap=True \n",
            "[CV]  n_estimators=261, min_samples_split=10, min_samples_leaf=1, max_features=auto, max_depth=None, bootstrap=True, total=   1.4s\n",
            "[CV] n_estimators=261, min_samples_split=10, min_samples_leaf=1, max_features=auto, max_depth=None, bootstrap=True \n",
            "[CV]  n_estimators=261, min_samples_split=10, min_samples_leaf=1, max_features=auto, max_depth=None, bootstrap=True, total=   1.3s\n",
            "[CV] n_estimators=261, min_samples_split=2, min_samples_leaf=1, max_features=sqrt, max_depth=98, bootstrap=True \n",
            "[CV]  n_estimators=261, min_samples_split=2, min_samples_leaf=1, max_features=sqrt, max_depth=98, bootstrap=True, total=   1.4s\n",
            "[CV] n_estimators=261, min_samples_split=2, min_samples_leaf=1, max_features=sqrt, max_depth=98, bootstrap=True \n",
            "[CV]  n_estimators=261, min_samples_split=2, min_samples_leaf=1, max_features=sqrt, max_depth=98, bootstrap=True, total=   1.4s\n",
            "[CV] n_estimators=261, min_samples_split=2, min_samples_leaf=1, max_features=sqrt, max_depth=98, bootstrap=True \n",
            "[CV]  n_estimators=261, min_samples_split=2, min_samples_leaf=1, max_features=sqrt, max_depth=98, bootstrap=True, total=   1.4s\n",
            "[CV] n_estimators=577, min_samples_split=5, min_samples_leaf=2, max_features=sqrt, max_depth=54, bootstrap=False \n",
            "[CV]  n_estimators=577, min_samples_split=5, min_samples_leaf=2, max_features=sqrt, max_depth=54, bootstrap=False, total=   4.1s\n",
            "[CV] n_estimators=577, min_samples_split=5, min_samples_leaf=2, max_features=sqrt, max_depth=54, bootstrap=False \n",
            "[CV]  n_estimators=577, min_samples_split=5, min_samples_leaf=2, max_features=sqrt, max_depth=54, bootstrap=False, total=   4.0s\n",
            "[CV] n_estimators=577, min_samples_split=5, min_samples_leaf=2, max_features=sqrt, max_depth=54, bootstrap=False \n",
            "[CV]  n_estimators=577, min_samples_split=5, min_samples_leaf=2, max_features=sqrt, max_depth=54, bootstrap=False, total=   4.0s\n",
            "[CV] n_estimators=683, min_samples_split=5, min_samples_leaf=4, max_features=sqrt, max_depth=110, bootstrap=False \n",
            "[CV]  n_estimators=683, min_samples_split=5, min_samples_leaf=4, max_features=sqrt, max_depth=110, bootstrap=False, total=   4.6s\n",
            "[CV] n_estimators=683, min_samples_split=5, min_samples_leaf=4, max_features=sqrt, max_depth=110, bootstrap=False \n",
            "[CV]  n_estimators=683, min_samples_split=5, min_samples_leaf=4, max_features=sqrt, max_depth=110, bootstrap=False, total=   4.5s\n",
            "[CV] n_estimators=683, min_samples_split=5, min_samples_leaf=4, max_features=sqrt, max_depth=110, bootstrap=False \n",
            "[CV]  n_estimators=683, min_samples_split=5, min_samples_leaf=4, max_features=sqrt, max_depth=110, bootstrap=False, total=   4.4s\n",
            "[CV] n_estimators=683, min_samples_split=2, min_samples_leaf=2, max_features=auto, max_depth=10, bootstrap=False \n",
            "[CV]  n_estimators=683, min_samples_split=2, min_samples_leaf=2, max_features=auto, max_depth=10, bootstrap=False, total=   3.7s\n",
            "[CV] n_estimators=683, min_samples_split=2, min_samples_leaf=2, max_features=auto, max_depth=10, bootstrap=False \n",
            "[CV]  n_estimators=683, min_samples_split=2, min_samples_leaf=2, max_features=auto, max_depth=10, bootstrap=False, total=   3.8s\n",
            "[CV] n_estimators=683, min_samples_split=2, min_samples_leaf=2, max_features=auto, max_depth=10, bootstrap=False \n",
            "[CV]  n_estimators=683, min_samples_split=2, min_samples_leaf=2, max_features=auto, max_depth=10, bootstrap=False, total=   3.8s\n",
            "[CV] n_estimators=50, min_samples_split=2, min_samples_leaf=1, max_features=auto, max_depth=None, bootstrap=True \n",
            "[CV]  n_estimators=50, min_samples_split=2, min_samples_leaf=1, max_features=auto, max_depth=None, bootstrap=True, total=   0.3s\n",
            "[CV] n_estimators=50, min_samples_split=2, min_samples_leaf=1, max_features=auto, max_depth=None, bootstrap=True \n",
            "[CV]  n_estimators=50, min_samples_split=2, min_samples_leaf=1, max_features=auto, max_depth=None, bootstrap=True, total=   0.3s\n",
            "[CV] n_estimators=50, min_samples_split=2, min_samples_leaf=1, max_features=auto, max_depth=None, bootstrap=True \n",
            "[CV]  n_estimators=50, min_samples_split=2, min_samples_leaf=1, max_features=auto, max_depth=None, bootstrap=True, total=   0.3s\n",
            "[CV] n_estimators=1000, min_samples_split=5, min_samples_leaf=1, max_features=auto, max_depth=10, bootstrap=False \n",
            "[CV]  n_estimators=1000, min_samples_split=5, min_samples_leaf=1, max_features=auto, max_depth=10, bootstrap=False, total=   5.7s\n",
            "[CV] n_estimators=1000, min_samples_split=5, min_samples_leaf=1, max_features=auto, max_depth=10, bootstrap=False \n",
            "[CV]  n_estimators=1000, min_samples_split=5, min_samples_leaf=1, max_features=auto, max_depth=10, bootstrap=False, total=   5.7s\n",
            "[CV] n_estimators=1000, min_samples_split=5, min_samples_leaf=1, max_features=auto, max_depth=10, bootstrap=False \n",
            "[CV]  n_estimators=1000, min_samples_split=5, min_samples_leaf=1, max_features=auto, max_depth=10, bootstrap=False, total=   5.7s\n",
            "[CV] n_estimators=577, min_samples_split=5, min_samples_leaf=2, max_features=sqrt, max_depth=76, bootstrap=False \n",
            "[CV]  n_estimators=577, min_samples_split=5, min_samples_leaf=2, max_features=sqrt, max_depth=76, bootstrap=False, total=   4.2s\n",
            "[CV] n_estimators=577, min_samples_split=5, min_samples_leaf=2, max_features=sqrt, max_depth=76, bootstrap=False \n",
            "[CV]  n_estimators=577, min_samples_split=5, min_samples_leaf=2, max_features=sqrt, max_depth=76, bootstrap=False, total=   4.1s\n",
            "[CV] n_estimators=577, min_samples_split=5, min_samples_leaf=2, max_features=sqrt, max_depth=76, bootstrap=False \n",
            "[CV]  n_estimators=577, min_samples_split=5, min_samples_leaf=2, max_features=sqrt, max_depth=76, bootstrap=False, total=   4.1s\n",
            "[CV] n_estimators=577, min_samples_split=2, min_samples_leaf=2, max_features=auto, max_depth=10, bootstrap=False \n",
            "[CV]  n_estimators=577, min_samples_split=2, min_samples_leaf=2, max_features=auto, max_depth=10, bootstrap=False, total=   3.2s\n",
            "[CV] n_estimators=577, min_samples_split=2, min_samples_leaf=2, max_features=auto, max_depth=10, bootstrap=False \n",
            "[CV]  n_estimators=577, min_samples_split=2, min_samples_leaf=2, max_features=auto, max_depth=10, bootstrap=False, total=   3.2s\n",
            "[CV] n_estimators=577, min_samples_split=2, min_samples_leaf=2, max_features=auto, max_depth=10, bootstrap=False \n",
            "[CV]  n_estimators=577, min_samples_split=2, min_samples_leaf=2, max_features=auto, max_depth=10, bootstrap=False, total=   3.2s\n",
            "[CV] n_estimators=261, min_samples_split=5, min_samples_leaf=4, max_features=auto, max_depth=32, bootstrap=True \n",
            "[CV]  n_estimators=261, min_samples_split=5, min_samples_leaf=4, max_features=auto, max_depth=32, bootstrap=True, total=   1.3s\n",
            "[CV] n_estimators=261, min_samples_split=5, min_samples_leaf=4, max_features=auto, max_depth=32, bootstrap=True \n",
            "[CV]  n_estimators=261, min_samples_split=5, min_samples_leaf=4, max_features=auto, max_depth=32, bootstrap=True, total=   1.3s\n",
            "[CV] n_estimators=261, min_samples_split=5, min_samples_leaf=4, max_features=auto, max_depth=32, bootstrap=True \n",
            "[CV]  n_estimators=261, min_samples_split=5, min_samples_leaf=4, max_features=auto, max_depth=32, bootstrap=True, total=   1.3s\n",
            "[CV] n_estimators=894, min_samples_split=5, min_samples_leaf=2, max_features=auto, max_depth=76, bootstrap=True \n",
            "[CV]  n_estimators=894, min_samples_split=5, min_samples_leaf=2, max_features=auto, max_depth=76, bootstrap=True, total=   4.8s\n",
            "[CV] n_estimators=894, min_samples_split=5, min_samples_leaf=2, max_features=auto, max_depth=76, bootstrap=True \n",
            "[CV]  n_estimators=894, min_samples_split=5, min_samples_leaf=2, max_features=auto, max_depth=76, bootstrap=True, total=   4.8s\n",
            "[CV] n_estimators=894, min_samples_split=5, min_samples_leaf=2, max_features=auto, max_depth=76, bootstrap=True \n",
            "[CV]  n_estimators=894, min_samples_split=5, min_samples_leaf=2, max_features=auto, max_depth=76, bootstrap=True, total=   4.8s\n",
            "[CV] n_estimators=1000, min_samples_split=10, min_samples_leaf=4, max_features=auto, max_depth=54, bootstrap=False \n",
            "[CV]  n_estimators=1000, min_samples_split=10, min_samples_leaf=4, max_features=auto, max_depth=54, bootstrap=False, total=   6.7s\n",
            "[CV] n_estimators=1000, min_samples_split=10, min_samples_leaf=4, max_features=auto, max_depth=54, bootstrap=False \n",
            "[CV]  n_estimators=1000, min_samples_split=10, min_samples_leaf=4, max_features=auto, max_depth=54, bootstrap=False, total=   6.5s\n",
            "[CV] n_estimators=1000, min_samples_split=10, min_samples_leaf=4, max_features=auto, max_depth=54, bootstrap=False \n",
            "[CV]  n_estimators=1000, min_samples_split=10, min_samples_leaf=4, max_features=auto, max_depth=54, bootstrap=False, total=   6.5s\n",
            "[CV] n_estimators=366, min_samples_split=2, min_samples_leaf=4, max_features=sqrt, max_depth=None, bootstrap=True \n",
            "[CV]  n_estimators=366, min_samples_split=2, min_samples_leaf=4, max_features=sqrt, max_depth=None, bootstrap=True, total=   1.8s\n",
            "[CV] n_estimators=366, min_samples_split=2, min_samples_leaf=4, max_features=sqrt, max_depth=None, bootstrap=True \n",
            "[CV]  n_estimators=366, min_samples_split=2, min_samples_leaf=4, max_features=sqrt, max_depth=None, bootstrap=True, total=   1.8s\n",
            "[CV] n_estimators=366, min_samples_split=2, min_samples_leaf=4, max_features=sqrt, max_depth=None, bootstrap=True \n",
            "[CV]  n_estimators=366, min_samples_split=2, min_samples_leaf=4, max_features=sqrt, max_depth=None, bootstrap=True, total=   1.8s\n",
            "[CV] n_estimators=788, min_samples_split=2, min_samples_leaf=1, max_features=sqrt, max_depth=32, bootstrap=True \n",
            "[CV]  n_estimators=788, min_samples_split=2, min_samples_leaf=1, max_features=sqrt, max_depth=32, bootstrap=True, total=   4.3s\n",
            "[CV] n_estimators=788, min_samples_split=2, min_samples_leaf=1, max_features=sqrt, max_depth=32, bootstrap=True \n",
            "[CV]  n_estimators=788, min_samples_split=2, min_samples_leaf=1, max_features=sqrt, max_depth=32, bootstrap=True, total=   4.3s\n",
            "[CV] n_estimators=788, min_samples_split=2, min_samples_leaf=1, max_features=sqrt, max_depth=32, bootstrap=True \n",
            "[CV]  n_estimators=788, min_samples_split=2, min_samples_leaf=1, max_features=sqrt, max_depth=32, bootstrap=True, total=   4.4s\n",
            "[CV] n_estimators=1000, min_samples_split=2, min_samples_leaf=2, max_features=sqrt, max_depth=110, bootstrap=False \n",
            "[CV]  n_estimators=1000, min_samples_split=2, min_samples_leaf=2, max_features=sqrt, max_depth=110, bootstrap=False, total=   7.2s\n",
            "[CV] n_estimators=1000, min_samples_split=2, min_samples_leaf=2, max_features=sqrt, max_depth=110, bootstrap=False \n",
            "[CV]  n_estimators=1000, min_samples_split=2, min_samples_leaf=2, max_features=sqrt, max_depth=110, bootstrap=False, total=   7.2s\n",
            "[CV] n_estimators=1000, min_samples_split=2, min_samples_leaf=2, max_features=sqrt, max_depth=110, bootstrap=False \n",
            "[CV]  n_estimators=1000, min_samples_split=2, min_samples_leaf=2, max_features=sqrt, max_depth=110, bootstrap=False, total=   7.1s\n",
            "[CV] n_estimators=788, min_samples_split=10, min_samples_leaf=2, max_features=sqrt, max_depth=21, bootstrap=False \n",
            "[CV]  n_estimators=788, min_samples_split=10, min_samples_leaf=2, max_features=sqrt, max_depth=21, bootstrap=False, total=   5.5s\n",
            "[CV] n_estimators=788, min_samples_split=10, min_samples_leaf=2, max_features=sqrt, max_depth=21, bootstrap=False \n",
            "[CV]  n_estimators=788, min_samples_split=10, min_samples_leaf=2, max_features=sqrt, max_depth=21, bootstrap=False, total=   5.4s\n",
            "[CV] n_estimators=788, min_samples_split=10, min_samples_leaf=2, max_features=sqrt, max_depth=21, bootstrap=False \n",
            "[CV]  n_estimators=788, min_samples_split=10, min_samples_leaf=2, max_features=sqrt, max_depth=21, bootstrap=False, total=   5.4s\n",
            "[CV] n_estimators=577, min_samples_split=2, min_samples_leaf=2, max_features=auto, max_depth=54, bootstrap=True \n",
            "[CV]  n_estimators=577, min_samples_split=2, min_samples_leaf=2, max_features=auto, max_depth=54, bootstrap=True, total=   3.1s\n",
            "[CV] n_estimators=577, min_samples_split=2, min_samples_leaf=2, max_features=auto, max_depth=54, bootstrap=True \n",
            "[CV]  n_estimators=577, min_samples_split=2, min_samples_leaf=2, max_features=auto, max_depth=54, bootstrap=True, total=   3.1s\n",
            "[CV] n_estimators=577, min_samples_split=2, min_samples_leaf=2, max_features=auto, max_depth=54, bootstrap=True \n",
            "[CV]  n_estimators=577, min_samples_split=2, min_samples_leaf=2, max_features=auto, max_depth=54, bootstrap=True, total=   3.0s\n",
            "[CV] n_estimators=894, min_samples_split=10, min_samples_leaf=4, max_features=sqrt, max_depth=110, bootstrap=True \n",
            "[CV]  n_estimators=894, min_samples_split=10, min_samples_leaf=4, max_features=sqrt, max_depth=110, bootstrap=True, total=   4.3s\n",
            "[CV] n_estimators=894, min_samples_split=10, min_samples_leaf=4, max_features=sqrt, max_depth=110, bootstrap=True \n",
            "[CV]  n_estimators=894, min_samples_split=10, min_samples_leaf=4, max_features=sqrt, max_depth=110, bootstrap=True, total=   4.3s\n",
            "[CV] n_estimators=894, min_samples_split=10, min_samples_leaf=4, max_features=sqrt, max_depth=110, bootstrap=True \n",
            "[CV]  n_estimators=894, min_samples_split=10, min_samples_leaf=4, max_features=sqrt, max_depth=110, bootstrap=True, total=   4.5s\n",
            "[CV] n_estimators=472, min_samples_split=2, min_samples_leaf=2, max_features=auto, max_depth=76, bootstrap=False \n",
            "[CV]  n_estimators=472, min_samples_split=2, min_samples_leaf=2, max_features=auto, max_depth=76, bootstrap=False, total=   3.5s\n",
            "[CV] n_estimators=472, min_samples_split=2, min_samples_leaf=2, max_features=auto, max_depth=76, bootstrap=False \n",
            "[CV]  n_estimators=472, min_samples_split=2, min_samples_leaf=2, max_features=auto, max_depth=76, bootstrap=False, total=   3.4s\n",
            "[CV] n_estimators=472, min_samples_split=2, min_samples_leaf=2, max_features=auto, max_depth=76, bootstrap=False \n",
            "[CV]  n_estimators=472, min_samples_split=2, min_samples_leaf=2, max_features=auto, max_depth=76, bootstrap=False, total=   3.3s\n",
            "[CV] n_estimators=894, min_samples_split=10, min_samples_leaf=4, max_features=auto, max_depth=87, bootstrap=False \n",
            "[CV]  n_estimators=894, min_samples_split=10, min_samples_leaf=4, max_features=auto, max_depth=87, bootstrap=False, total=   5.9s\n",
            "[CV] n_estimators=894, min_samples_split=10, min_samples_leaf=4, max_features=auto, max_depth=87, bootstrap=False \n",
            "[CV]  n_estimators=894, min_samples_split=10, min_samples_leaf=4, max_features=auto, max_depth=87, bootstrap=False, total=   5.8s\n",
            "[CV] n_estimators=894, min_samples_split=10, min_samples_leaf=4, max_features=auto, max_depth=87, bootstrap=False \n",
            "[CV]  n_estimators=894, min_samples_split=10, min_samples_leaf=4, max_features=auto, max_depth=87, bootstrap=False, total=   5.9s\n",
            "[CV] n_estimators=894, min_samples_split=5, min_samples_leaf=4, max_features=sqrt, max_depth=10, bootstrap=False \n",
            "[CV]  n_estimators=894, min_samples_split=5, min_samples_leaf=4, max_features=sqrt, max_depth=10, bootstrap=False, total=   4.9s\n",
            "[CV] n_estimators=894, min_samples_split=5, min_samples_leaf=4, max_features=sqrt, max_depth=10, bootstrap=False \n",
            "[CV]  n_estimators=894, min_samples_split=5, min_samples_leaf=4, max_features=sqrt, max_depth=10, bootstrap=False, total=   4.8s\n",
            "[CV] n_estimators=894, min_samples_split=5, min_samples_leaf=4, max_features=sqrt, max_depth=10, bootstrap=False \n",
            "[CV]  n_estimators=894, min_samples_split=5, min_samples_leaf=4, max_features=sqrt, max_depth=10, bootstrap=False, total=   4.8s\n",
            "[CV] n_estimators=894, min_samples_split=5, min_samples_leaf=4, max_features=auto, max_depth=87, bootstrap=True \n",
            "[CV]  n_estimators=894, min_samples_split=5, min_samples_leaf=4, max_features=auto, max_depth=87, bootstrap=True, total=   4.5s\n",
            "[CV] n_estimators=894, min_samples_split=5, min_samples_leaf=4, max_features=auto, max_depth=87, bootstrap=True \n",
            "[CV]  n_estimators=894, min_samples_split=5, min_samples_leaf=4, max_features=auto, max_depth=87, bootstrap=True, total=   4.4s\n",
            "[CV] n_estimators=894, min_samples_split=5, min_samples_leaf=4, max_features=auto, max_depth=87, bootstrap=True \n",
            "[CV]  n_estimators=894, min_samples_split=5, min_samples_leaf=4, max_features=auto, max_depth=87, bootstrap=True, total=   4.4s\n",
            "[CV] n_estimators=1000, min_samples_split=10, min_samples_leaf=1, max_features=sqrt, max_depth=21, bootstrap=False \n",
            "[CV]  n_estimators=1000, min_samples_split=10, min_samples_leaf=1, max_features=sqrt, max_depth=21, bootstrap=False, total=   7.1s\n",
            "[CV] n_estimators=1000, min_samples_split=10, min_samples_leaf=1, max_features=sqrt, max_depth=21, bootstrap=False \n",
            "[CV]  n_estimators=1000, min_samples_split=10, min_samples_leaf=1, max_features=sqrt, max_depth=21, bootstrap=False, total=   7.1s\n",
            "[CV] n_estimators=1000, min_samples_split=10, min_samples_leaf=1, max_features=sqrt, max_depth=21, bootstrap=False \n",
            "[CV]  n_estimators=1000, min_samples_split=10, min_samples_leaf=1, max_features=sqrt, max_depth=21, bootstrap=False, total=   7.1s\n",
            "[CV] n_estimators=50, min_samples_split=10, min_samples_leaf=2, max_features=auto, max_depth=32, bootstrap=True \n",
            "[CV]  n_estimators=50, min_samples_split=10, min_samples_leaf=2, max_features=auto, max_depth=32, bootstrap=True, total=   0.3s\n",
            "[CV] n_estimators=50, min_samples_split=10, min_samples_leaf=2, max_features=auto, max_depth=32, bootstrap=True \n",
            "[CV]  n_estimators=50, min_samples_split=10, min_samples_leaf=2, max_features=auto, max_depth=32, bootstrap=True, total=   0.3s\n",
            "[CV] n_estimators=50, min_samples_split=10, min_samples_leaf=2, max_features=auto, max_depth=32, bootstrap=True \n",
            "[CV]  n_estimators=50, min_samples_split=10, min_samples_leaf=2, max_features=auto, max_depth=32, bootstrap=True, total=   0.3s\n",
            "[CV] n_estimators=683, min_samples_split=5, min_samples_leaf=1, max_features=auto, max_depth=21, bootstrap=False \n",
            "[CV]  n_estimators=683, min_samples_split=5, min_samples_leaf=1, max_features=auto, max_depth=21, bootstrap=False, total=   5.1s\n",
            "[CV] n_estimators=683, min_samples_split=5, min_samples_leaf=1, max_features=auto, max_depth=21, bootstrap=False \n",
            "[CV]  n_estimators=683, min_samples_split=5, min_samples_leaf=1, max_features=auto, max_depth=21, bootstrap=False, total=   5.1s\n",
            "[CV] n_estimators=683, min_samples_split=5, min_samples_leaf=1, max_features=auto, max_depth=21, bootstrap=False \n",
            "[CV]  n_estimators=683, min_samples_split=5, min_samples_leaf=1, max_features=auto, max_depth=21, bootstrap=False, total=   5.1s\n",
            "[CV] n_estimators=683, min_samples_split=5, min_samples_leaf=4, max_features=sqrt, max_depth=10, bootstrap=True \n",
            "[CV]  n_estimators=683, min_samples_split=5, min_samples_leaf=4, max_features=sqrt, max_depth=10, bootstrap=True, total=   3.0s\n",
            "[CV] n_estimators=683, min_samples_split=5, min_samples_leaf=4, max_features=sqrt, max_depth=10, bootstrap=True \n",
            "[CV]  n_estimators=683, min_samples_split=5, min_samples_leaf=4, max_features=sqrt, max_depth=10, bootstrap=True, total=   3.0s\n",
            "[CV] n_estimators=683, min_samples_split=5, min_samples_leaf=4, max_features=sqrt, max_depth=10, bootstrap=True \n",
            "[CV]  n_estimators=683, min_samples_split=5, min_samples_leaf=4, max_features=sqrt, max_depth=10, bootstrap=True, total=   3.0s\n",
            "[CV] n_estimators=50, min_samples_split=10, min_samples_leaf=2, max_features=auto, max_depth=98, bootstrap=True \n",
            "[CV]  n_estimators=50, min_samples_split=10, min_samples_leaf=2, max_features=auto, max_depth=98, bootstrap=True, total=   0.3s\n",
            "[CV] n_estimators=50, min_samples_split=10, min_samples_leaf=2, max_features=auto, max_depth=98, bootstrap=True \n",
            "[CV]  n_estimators=50, min_samples_split=10, min_samples_leaf=2, max_features=auto, max_depth=98, bootstrap=True, total=   0.3s\n",
            "[CV] n_estimators=50, min_samples_split=10, min_samples_leaf=2, max_features=auto, max_depth=98, bootstrap=True \n",
            "[CV]  n_estimators=50, min_samples_split=10, min_samples_leaf=2, max_features=auto, max_depth=98, bootstrap=True, total=   0.3s\n",
            "[CV] n_estimators=472, min_samples_split=2, min_samples_leaf=1, max_features=auto, max_depth=65, bootstrap=False \n",
            "[CV]  n_estimators=472, min_samples_split=2, min_samples_leaf=1, max_features=auto, max_depth=65, bootstrap=False, total=   3.7s\n",
            "[CV] n_estimators=472, min_samples_split=2, min_samples_leaf=1, max_features=auto, max_depth=65, bootstrap=False \n",
            "[CV]  n_estimators=472, min_samples_split=2, min_samples_leaf=1, max_features=auto, max_depth=65, bootstrap=False, total=   3.7s\n",
            "[CV] n_estimators=472, min_samples_split=2, min_samples_leaf=1, max_features=auto, max_depth=65, bootstrap=False \n",
            "[CV]  n_estimators=472, min_samples_split=2, min_samples_leaf=1, max_features=auto, max_depth=65, bootstrap=False, total=   3.6s\n",
            "[CV] n_estimators=261, min_samples_split=10, min_samples_leaf=1, max_features=auto, max_depth=110, bootstrap=False \n",
            "[CV]  n_estimators=261, min_samples_split=10, min_samples_leaf=1, max_features=auto, max_depth=110, bootstrap=False, total=   1.9s\n",
            "[CV] n_estimators=261, min_samples_split=10, min_samples_leaf=1, max_features=auto, max_depth=110, bootstrap=False \n",
            "[CV]  n_estimators=261, min_samples_split=10, min_samples_leaf=1, max_features=auto, max_depth=110, bootstrap=False, total=   1.9s\n",
            "[CV] n_estimators=261, min_samples_split=10, min_samples_leaf=1, max_features=auto, max_depth=110, bootstrap=False \n",
            "[CV]  n_estimators=261, min_samples_split=10, min_samples_leaf=1, max_features=auto, max_depth=110, bootstrap=False, total=   1.9s\n",
            "[CV] n_estimators=577, min_samples_split=10, min_samples_leaf=1, max_features=sqrt, max_depth=43, bootstrap=True \n"
          ],
          "name": "stdout"
        }
      ]
    },
    {
      "cell_type": "markdown",
      "metadata": {
        "id": "u3kYoof7flJw"
      },
      "source": [
        "## **shows our classification report**"
      ]
    },
    {
      "cell_type": "code",
      "metadata": {
        "id": "vtUcMI0-VXwr"
      },
      "source": [
        "\r\n",
        "print(classification_report(y_test, pred_optimized))\r\n",
        "print(rf_optimized.best_params_)"
      ],
      "execution_count": null,
      "outputs": []
    },
    {
      "cell_type": "markdown",
      "metadata": {
        "id": "zOrzra7dgLqg"
      },
      "source": [
        "## **This classifier tells us that with an 80% of accuracy rate if our wine is good, average or bad**"
      ]
    },
    {
      "cell_type": "code",
      "metadata": {
        "id": "lnMYlO7FVauR"
      },
      "source": [
        "RFCeval = cross_val_score(estimator=rf, X=x_train, y=y_train, cv=10)\r\n",
        "RFCeval.mean()"
      ],
      "execution_count": null,
      "outputs": []
    },
    {
      "cell_type": "code",
      "metadata": {
        "id": "aGVl_7xyVaxI"
      },
      "source": [
        "rf_optimized = RandomForestClassifier(n_estimators=50, min_samples_split=2, min_samples_leaf=1, max_features='auto', max_depth=None, bootstrap=True)\r\n",
        "rf_optimized.fit(x_train, y_train)\r\n",
        "\r\n",
        "RFCeval = cross_val_score(estimator=rf_optimized, X=x_train, y=y_train, cv=10)\r\n",
        "RFCeval.mean()"
      ],
      "execution_count": null,
      "outputs": []
    }
  ]
}